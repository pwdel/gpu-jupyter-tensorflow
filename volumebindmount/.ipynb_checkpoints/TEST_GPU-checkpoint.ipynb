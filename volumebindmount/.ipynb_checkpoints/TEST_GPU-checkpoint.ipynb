{
 "cells": [
  {
   "cell_type": "code",
   "execution_count": 1,
   "id": "0c59179b",
   "metadata": {},
   "outputs": [
    {
     "name": "stdout",
     "output_type": "stream",
     "text": [
      "hello\n"
     ]
    }
   ],
   "source": [
    "print(\"hello\")"
   ]
  },
  {
   "cell_type": "code",
   "execution_count": 2,
   "id": "c0bfa97f",
   "metadata": {},
   "outputs": [
    {
     "name": "stderr",
     "output_type": "stream",
     "text": [
      "2023-11-27 22:12:00.398372: I tensorflow/stream_executor/platform/default/dso_loader.cc:49] Successfully opened dynamic library libcudart.so.10.1\n"
     ]
    }
   ],
   "source": [
    "import tensorflow as tf"
   ]
  },
  {
   "cell_type": "code",
   "execution_count": 3,
   "id": "7209ce4f",
   "metadata": {},
   "outputs": [
    {
     "name": "stdout",
     "output_type": "stream",
     "text": [
      "Num GPUs:  1\n"
     ]
    },
    {
     "name": "stderr",
     "output_type": "stream",
     "text": [
      "2023-11-27 22:12:02.101949: I tensorflow/compiler/jit/xla_cpu_device.cc:41] Not creating XLA devices, tf_xla_enable_xla_devices not set\n",
      "2023-11-27 22:12:02.102724: I tensorflow/stream_executor/platform/default/dso_loader.cc:49] Successfully opened dynamic library libcuda.so.1\n",
      "2023-11-27 22:12:02.144435: I tensorflow/stream_executor/cuda/cuda_gpu_executor.cc:941] successful NUMA node read from SysFS had negative value (-1), but there must be at least one NUMA node, so returning NUMA node zero\n",
      "2023-11-27 22:12:02.144662: I tensorflow/core/common_runtime/gpu/gpu_device.cc:1720] Found device 0 with properties: \n",
      "pciBusID: 0000:01:00.0 name: NVIDIA GeForce GTX 1070 computeCapability: 6.1\n",
      "coreClock: 1.683GHz coreCount: 15 deviceMemorySize: 7.92GiB deviceMemoryBandwidth: 238.66GiB/s\n",
      "2023-11-27 22:12:02.144695: I tensorflow/stream_executor/platform/default/dso_loader.cc:49] Successfully opened dynamic library libcudart.so.10.1\n",
      "2023-11-27 22:12:02.147518: I tensorflow/stream_executor/platform/default/dso_loader.cc:49] Successfully opened dynamic library libcublas.so.10\n",
      "2023-11-27 22:12:02.147578: I tensorflow/stream_executor/platform/default/dso_loader.cc:49] Successfully opened dynamic library libcublasLt.so.10\n",
      "2023-11-27 22:12:02.149806: I tensorflow/stream_executor/platform/default/dso_loader.cc:49] Successfully opened dynamic library libcufft.so.10\n",
      "2023-11-27 22:12:02.150279: I tensorflow/stream_executor/platform/default/dso_loader.cc:49] Successfully opened dynamic library libcurand.so.10\n",
      "2023-11-27 22:12:02.153080: I tensorflow/stream_executor/platform/default/dso_loader.cc:49] Successfully opened dynamic library libcusolver.so.10\n",
      "2023-11-27 22:12:02.154615: I tensorflow/stream_executor/platform/default/dso_loader.cc:49] Successfully opened dynamic library libcusparse.so.10\n",
      "2023-11-27 22:12:02.160306: I tensorflow/stream_executor/platform/default/dso_loader.cc:49] Successfully opened dynamic library libcudnn.so.7\n",
      "2023-11-27 22:12:02.160483: I tensorflow/stream_executor/cuda/cuda_gpu_executor.cc:941] successful NUMA node read from SysFS had negative value (-1), but there must be at least one NUMA node, so returning NUMA node zero\n",
      "2023-11-27 22:12:02.160779: I tensorflow/stream_executor/cuda/cuda_gpu_executor.cc:941] successful NUMA node read from SysFS had negative value (-1), but there must be at least one NUMA node, so returning NUMA node zero\n",
      "2023-11-27 22:12:02.160949: I tensorflow/core/common_runtime/gpu/gpu_device.cc:1862] Adding visible gpu devices: 0\n"
     ]
    }
   ],
   "source": [
    "print (\"Num GPUs: \", len(tf.config.experimental.list_physical_devices('GPU')))"
   ]
  },
  {
   "cell_type": "code",
   "execution_count": 4,
   "id": "1fdbf1a0",
   "metadata": {},
   "outputs": [
    {
     "name": "stdout",
     "output_type": "stream",
     "text": [
      "Num GPUs: 1\n"
     ]
    }
   ],
   "source": [
    "import tensorflow as tf\n",
    "\n",
    "# List all available GPUs\n",
    "gpus = tf.config.list_physical_devices('GPU')\n",
    "\n",
    "if gpus:\n",
    "    print(\"Num GPUs:\", len(gpus))\n",
    "else:\n",
    "    print(\"No GPUs found\")"
   ]
  },
  {
   "cell_type": "code",
   "execution_count": null,
   "id": "a3fb216b",
   "metadata": {},
   "outputs": [],
   "source": [
    "import tensorflow as tf\n",
    "import time\n",
    "\n",
    "# Check the number of available GPUs\n",
    "gpus = tf.config.list_physical_devices('GPU')\n",
    "\n",
    "if not gpus:\n",
    "    print(\"No GPUs found...\")\n",
    "    exit()\n",
    "\n",
    "# Create larger synthetic data for matrix multiplication\n",
    "matrix_size = 5000  # Increase the matrix size\n",
    "matrix_a = tf.random.normal((matrix_size, matrix_size))\n",
    "matrix_b = tf.random.normal((matrix_size, matrix_size))\n",
    "\n",
    "# Define a function to perform matrix multiplication on a GPU\n",
    "@tf.function\n",
    "def multiply_on_gpu(a, b):\n",
    "    with tf.device('/GPU:0'):  # Use the first GPU\n",
    "        return tf.matmul(a, b)\n",
    "\n",
    "# Define a function to perform matrix multiplication on a CPU\n",
    "@tf.function\n",
    "def multiply_on_cpu(a, b):\n",
    "    with tf.device('/CPU:0'):  # Use the CPU\n",
    "        return tf.matmul(a, b)\n",
    "\n",
    "# Time the matrix multiplication on GPU\n",
    "start_time_gpu = time.time()\n",
    "result_gpu = multiply_on_gpu(matrix_a, matrix_b)\n",
    "end_time_gpu = time.time()\n",
    "execution_time_gpu = end_time_gpu - start_time_gpu\n",
    "\n",
    "# Time the matrix multiplication on CPU\n",
    "start_time_cpu = time.time()\n",
    "result_cpu = multiply_on_cpu(matrix_a, matrix_b)\n",
    "end_time_cpu = time.time()\n",
    "execution_time_cpu = end_time_cpu - start_time_cpu\n",
    "\n",
    "print(f\"Matrix multiplication on GPU took {execution_time_gpu:.4f} seconds.\")\n",
    "print(f\"Matrix multiplication on CPU took {execution_time_cpu:.4f} seconds.\")"
   ]
  },
  {
   "cell_type": "code",
   "execution_count": 10,
   "id": "7b6a6d7f",
   "metadata": {},
   "outputs": [
    {
     "name": "stdout",
     "output_type": "stream",
     "text": [
      "Matrix multiplication took 0.0002 seconds.\n"
     ]
    }
   ],
   "source": [
    "import tensorflow as tf\n",
    "import time\n",
    "\n",
    "# Create two random matricies\n",
    "A = tf.random.normal([1000, 1000])\n",
    "B = tf.random.normal([1000, 1000])\n",
    "\n",
    "# Start the timer\n",
    "start_time = time.time()\n",
    "\n",
    "# Multiply\n",
    "with tf.device('GPU:0'): # force the operation on the GPU\n",
    "    C = tf.matmul(A,B)\n",
    "\n",
    "# stop timer\n",
    "end_time = time.time()\n",
    "\n",
    "print(f\"Matrix multiplication took {end_time - start_time:.4f} seconds.\")"
   ]
  },
  {
   "cell_type": "code",
   "execution_count": 12,
   "id": "cc975a99",
   "metadata": {},
   "outputs": [
    {
     "name": "stdout",
     "output_type": "stream",
     "text": [
      "Matrix multiplication took 0.0090 seconds.\n"
     ]
    }
   ],
   "source": [
    "import tensorflow as tf\n",
    "import time\n",
    "\n",
    "# Create two random matricies\n",
    "A = tf.random.normal([1000, 1000])\n",
    "B = tf.random.normal([1000, 1000])\n",
    "\n",
    "\n",
    "# Define a strategy to use all available CPU cores\n",
    "strategy = tf.distribute.OneDeviceStrategy(device=\"/CPU:0\")\n",
    "\n",
    "\n",
    "# Start the timer\n",
    "start_time = time.time()\n",
    "\n",
    "# Multiply with strategy scope\n",
    "with strategy.scope():\n",
    "    with tf.device('CPU:0'): # force the operation on the GPU\n",
    "        C = tf.matmul(A,B)\n",
    "\n",
    "# stop timer\n",
    "end_time = time.time()\n",
    "\n",
    "print(f\"Matrix multiplication took {end_time - start_time:.4f} seconds.\")"
   ]
  },
  {
   "cell_type": "code",
   "execution_count": 13,
   "id": "cc025e81",
   "metadata": {},
   "outputs": [
    {
     "data": {
      "text/plain": [
       "44.99999999999999"
      ]
     },
     "execution_count": 13,
     "metadata": {},
     "output_type": "execute_result"
    }
   ],
   "source": [
    "0.0090/0.0002"
   ]
  },
  {
   "cell_type": "code",
   "execution_count": null,
   "id": "5eafcc66",
   "metadata": {},
   "outputs": [],
   "source": []
  }
 ],
 "metadata": {
  "kernelspec": {
   "display_name": "tf_gpu_env",
   "language": "python",
   "name": "tf_gpu_env"
  },
  "language_info": {
   "codemirror_mode": {
    "name": "ipython",
    "version": 3
   },
   "file_extension": ".py",
   "mimetype": "text/x-python",
   "name": "python",
   "nbconvert_exporter": "python",
   "pygments_lexer": "ipython3",
   "version": "3.9.0"
  }
 },
 "nbformat": 4,
 "nbformat_minor": 5
}
