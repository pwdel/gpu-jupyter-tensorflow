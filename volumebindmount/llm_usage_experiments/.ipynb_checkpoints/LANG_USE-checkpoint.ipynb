{
 "cells": [
  {
   "cell_type": "markdown",
   "id": "5800b335",
   "metadata": {},
   "source": [
    "## Setup\n",
    "\n",
    "Run the cells below to setup and install the required libraries. For our experiment we will need `accelerate`, `peft`, `transformers`, `datasets` and TRL to leverage the recent [`SFTTrainer`](https://huggingface.co/docs/trl/main/en/sft_trainer). We will use `bitsandbytes` to [quantize the base model into 4bit](https://huggingface.co/blog/4bit-transformers-bitsandbytes). We will also install `einops` as it is a requirement to load Falcon models."
   ]
  },
  {
   "cell_type": "code",
   "execution_count": 38,
   "id": "84db16fb",
   "metadata": {},
   "outputs": [
    {
     "name": "stdout",
     "output_type": "stream",
     "text": [
      "Found existing installation: transformers 4.33.1\n",
      "Uninstalling transformers-4.33.1:\n",
      "  Successfully uninstalled transformers-4.33.1\n",
      "Collecting transformers==4.30.2\n",
      "  Obtaining dependency information for transformers==4.30.2 from https://files.pythonhosted.org/packages/5b/0b/e45d26ccd28568013523e04f325432ea88a442b4e3020b757cf4361f0120/transformers-4.30.2-py3-none-any.whl.metadata\n",
      "  Downloading transformers-4.30.2-py3-none-any.whl.metadata (113 kB)\n",
      "\u001b[2K     \u001b[90m━━━━━━━━━━━━━━━━━━━━━━━━━━━━━━━━━━━━━━━\u001b[0m \u001b[32m113.6/113.6 kB\u001b[0m \u001b[31m2.5 MB/s\u001b[0m eta \u001b[36m0:00:00\u001b[0m00:01\u001b[0m\n",
      "\u001b[?25hRequirement already satisfied: filelock in /opt/conda/envs/tf_gpu_env/lib/python3.9/site-packages (from transformers==4.30.2) (3.12.4)\n",
      "Requirement already satisfied: huggingface-hub<1.0,>=0.14.1 in /opt/conda/envs/tf_gpu_env/lib/python3.9/site-packages (from transformers==4.30.2) (0.17.1)\n",
      "Requirement already satisfied: numpy>=1.17 in /opt/conda/envs/tf_gpu_env/lib/python3.9/site-packages (from transformers==4.30.2) (1.23.0)\n",
      "Requirement already satisfied: packaging>=20.0 in /opt/conda/envs/tf_gpu_env/lib/python3.9/site-packages (from transformers==4.30.2) (22.0)\n",
      "Requirement already satisfied: pyyaml>=5.1 in /opt/conda/envs/tf_gpu_env/lib/python3.9/site-packages (from transformers==4.30.2) (6.0.1)\n",
      "Requirement already satisfied: regex!=2019.12.17 in /opt/conda/envs/tf_gpu_env/lib/python3.9/site-packages (from transformers==4.30.2) (2023.8.8)\n",
      "Requirement already satisfied: requests in /opt/conda/envs/tf_gpu_env/lib/python3.9/site-packages (from transformers==4.30.2) (2.28.1)\n",
      "Requirement already satisfied: tokenizers!=0.11.3,<0.14,>=0.11.1 in /opt/conda/envs/tf_gpu_env/lib/python3.9/site-packages (from transformers==4.30.2) (0.13.3)\n",
      "Requirement already satisfied: safetensors>=0.3.1 in /opt/conda/envs/tf_gpu_env/lib/python3.9/site-packages (from transformers==4.30.2) (0.3.3)\n",
      "Requirement already satisfied: tqdm>=4.27 in /opt/conda/envs/tf_gpu_env/lib/python3.9/site-packages (from transformers==4.30.2) (4.66.1)\n",
      "Requirement already satisfied: fsspec in /opt/conda/envs/tf_gpu_env/lib/python3.9/site-packages (from huggingface-hub<1.0,>=0.14.1->transformers==4.30.2) (2023.6.0)\n",
      "Requirement already satisfied: typing-extensions>=3.7.4.3 in /opt/conda/envs/tf_gpu_env/lib/python3.9/site-packages (from huggingface-hub<1.0,>=0.14.1->transformers==4.30.2) (4.4.0)\n",
      "Requirement already satisfied: charset-normalizer<3,>=2 in /opt/conda/envs/tf_gpu_env/lib/python3.9/site-packages (from requests->transformers==4.30.2) (2.0.4)\n",
      "Requirement already satisfied: idna<4,>=2.5 in /opt/conda/envs/tf_gpu_env/lib/python3.9/site-packages (from requests->transformers==4.30.2) (3.4)\n",
      "Requirement already satisfied: urllib3<1.27,>=1.21.1 in /opt/conda/envs/tf_gpu_env/lib/python3.9/site-packages (from requests->transformers==4.30.2) (1.26.14)\n",
      "Requirement already satisfied: certifi>=2017.4.17 in /opt/conda/envs/tf_gpu_env/lib/python3.9/site-packages (from requests->transformers==4.30.2) (2022.12.7)\n",
      "Downloading transformers-4.30.2-py3-none-any.whl (7.2 MB)\n",
      "\u001b[2K   \u001b[90m━━━━━━━━━━━━━━━━━━━━━━━━━━━━━━━━━━━━━━━━\u001b[0m \u001b[32m7.2/7.2 MB\u001b[0m \u001b[31m9.9 MB/s\u001b[0m eta \u001b[36m0:00:00\u001b[0m:00:01\u001b[0m00:01\u001b[0m\n",
      "\u001b[?25hInstalling collected packages: transformers\n",
      "Successfully installed transformers-4.30.2\n"
     ]
    }
   ],
   "source": [
    "!pip uninstall -y transformers\n",
    "!pip install -U transformers==4.30.2"
   ]
  },
  {
   "cell_type": "code",
   "execution_count": null,
   "id": "9f3176d7",
   "metadata": {},
   "outputs": [
    {
     "name": "stdout",
     "output_type": "stream",
     "text": [
      "Found existing installation: peft 0.3.0\n",
      "Uninstalling peft-0.3.0:\n",
      "  Successfully uninstalled peft-0.3.0\n",
      "Collecting git+https://github.com/huggingface/peft.git@v0.3.0\n",
      "  Cloning https://github.com/huggingface/peft.git (to revision v0.3.0) to /tmp/pip-req-build-19gt508o\n",
      "  Running command git clone --filter=blob:none --quiet https://github.com/huggingface/peft.git /tmp/pip-req-build-19gt508o\n"
     ]
    }
   ],
   "source": [
    "!pip uninstall -y peft\n",
    "!pip install git+https://github.com/huggingface/peft.git@v0.3.0"
   ]
  },
  {
   "cell_type": "code",
   "execution_count": 12,
   "id": "de9c9dda",
   "metadata": {},
   "outputs": [
    {
     "name": "stdout",
     "output_type": "stream",
     "text": [
      "Collecting git+https://github.com/huggingface/peft.git\n",
      "  Cloning https://github.com/huggingface/peft.git to /tmp/pip-req-build-o9shb98i\n",
      "  Running command git clone --filter=blob:none --quiet https://github.com/huggingface/peft.git /tmp/pip-req-build-o9shb98i\n",
      "  Resolved https://github.com/huggingface/peft.git to commit 4c611f40b4c605c0cf8cd3e38b5c462341025fd4\n",
      "  Installing build dependencies ... \u001b[?25ldone\n",
      "\u001b[?25h  Getting requirements to build wheel ... \u001b[?25ldone\n",
      "\u001b[?25h  Preparing metadata (pyproject.toml) ... \u001b[?25ldone\n",
      "\u001b[?25hRequirement already satisfied: trl in /opt/conda/envs/tf_gpu_env/lib/python3.9/site-packages (0.7.1)\n",
      "Requirement already satisfied: transformers in /opt/conda/envs/tf_gpu_env/lib/python3.9/site-packages (4.33.1)\n",
      "Requirement already satisfied: accelerate in /opt/conda/envs/tf_gpu_env/lib/python3.9/site-packages (0.22.0)\n",
      "Requirement already satisfied: torch>=1.4.0 in /opt/conda/envs/tf_gpu_env/lib/python3.9/site-packages (from trl) (2.0.1)\n",
      "Requirement already satisfied: numpy>=1.18.2 in /opt/conda/envs/tf_gpu_env/lib/python3.9/site-packages (from trl) (1.23.0)\n",
      "Collecting datasets (from trl)\n",
      "  Obtaining dependency information for datasets from https://files.pythonhosted.org/packages/09/7e/fd4d6441a541dba61d0acb3c1fd5df53214c2e9033854e837a99dd9e0793/datasets-2.14.5-py3-none-any.whl.metadata\n",
      "  Using cached datasets-2.14.5-py3-none-any.whl.metadata (19 kB)\n",
      "Requirement already satisfied: filelock in /opt/conda/envs/tf_gpu_env/lib/python3.9/site-packages (from transformers) (3.12.4)\n",
      "Requirement already satisfied: huggingface-hub<1.0,>=0.15.1 in /opt/conda/envs/tf_gpu_env/lib/python3.9/site-packages (from transformers) (0.17.1)\n",
      "Requirement already satisfied: packaging>=20.0 in /opt/conda/envs/tf_gpu_env/lib/python3.9/site-packages (from transformers) (22.0)\n",
      "Requirement already satisfied: pyyaml>=5.1 in /opt/conda/envs/tf_gpu_env/lib/python3.9/site-packages (from transformers) (6.0.1)\n",
      "Requirement already satisfied: regex!=2019.12.17 in /opt/conda/envs/tf_gpu_env/lib/python3.9/site-packages (from transformers) (2023.8.8)\n",
      "Requirement already satisfied: requests in /opt/conda/envs/tf_gpu_env/lib/python3.9/site-packages (from transformers) (2.28.1)\n",
      "Requirement already satisfied: tokenizers!=0.11.3,<0.14,>=0.11.1 in /opt/conda/envs/tf_gpu_env/lib/python3.9/site-packages (from transformers) (0.13.3)\n",
      "Requirement already satisfied: safetensors>=0.3.1 in /opt/conda/envs/tf_gpu_env/lib/python3.9/site-packages (from transformers) (0.3.3)\n",
      "Requirement already satisfied: tqdm>=4.27 in /opt/conda/envs/tf_gpu_env/lib/python3.9/site-packages (from transformers) (4.66.1)\n",
      "Requirement already satisfied: psutil in /opt/conda/envs/tf_gpu_env/lib/python3.9/site-packages (from accelerate) (5.9.0)\n",
      "Requirement already satisfied: fsspec in /opt/conda/envs/tf_gpu_env/lib/python3.9/site-packages (from huggingface-hub<1.0,>=0.15.1->transformers) (2023.6.0)\n",
      "Requirement already satisfied: typing-extensions>=3.7.4.3 in /opt/conda/envs/tf_gpu_env/lib/python3.9/site-packages (from huggingface-hub<1.0,>=0.15.1->transformers) (4.4.0)\n",
      "Requirement already satisfied: sympy in /opt/conda/envs/tf_gpu_env/lib/python3.9/site-packages (from torch>=1.4.0->trl) (1.12)\n",
      "Requirement already satisfied: networkx in /opt/conda/envs/tf_gpu_env/lib/python3.9/site-packages (from torch>=1.4.0->trl) (3.1)\n",
      "Requirement already satisfied: jinja2 in /opt/conda/envs/tf_gpu_env/lib/python3.9/site-packages (from torch>=1.4.0->trl) (3.1.2)\n",
      "Requirement already satisfied: nvidia-cuda-nvrtc-cu11==11.7.99 in /opt/conda/envs/tf_gpu_env/lib/python3.9/site-packages (from torch>=1.4.0->trl) (11.7.99)\n",
      "Requirement already satisfied: nvidia-cuda-runtime-cu11==11.7.99 in /opt/conda/envs/tf_gpu_env/lib/python3.9/site-packages (from torch>=1.4.0->trl) (11.7.99)\n",
      "Requirement already satisfied: nvidia-cuda-cupti-cu11==11.7.101 in /opt/conda/envs/tf_gpu_env/lib/python3.9/site-packages (from torch>=1.4.0->trl) (11.7.101)\n",
      "Requirement already satisfied: nvidia-cudnn-cu11==8.5.0.96 in /opt/conda/envs/tf_gpu_env/lib/python3.9/site-packages (from torch>=1.4.0->trl) (8.5.0.96)\n",
      "Requirement already satisfied: nvidia-cublas-cu11==11.10.3.66 in /opt/conda/envs/tf_gpu_env/lib/python3.9/site-packages (from torch>=1.4.0->trl) (11.10.3.66)\n",
      "Requirement already satisfied: nvidia-cufft-cu11==10.9.0.58 in /opt/conda/envs/tf_gpu_env/lib/python3.9/site-packages (from torch>=1.4.0->trl) (10.9.0.58)\n",
      "Requirement already satisfied: nvidia-curand-cu11==10.2.10.91 in /opt/conda/envs/tf_gpu_env/lib/python3.9/site-packages (from torch>=1.4.0->trl) (10.2.10.91)\n",
      "Requirement already satisfied: nvidia-cusolver-cu11==11.4.0.1 in /opt/conda/envs/tf_gpu_env/lib/python3.9/site-packages (from torch>=1.4.0->trl) (11.4.0.1)\n",
      "Requirement already satisfied: nvidia-cusparse-cu11==11.7.4.91 in /opt/conda/envs/tf_gpu_env/lib/python3.9/site-packages (from torch>=1.4.0->trl) (11.7.4.91)\n",
      "Requirement already satisfied: nvidia-nccl-cu11==2.14.3 in /opt/conda/envs/tf_gpu_env/lib/python3.9/site-packages (from torch>=1.4.0->trl) (2.14.3)\n",
      "Requirement already satisfied: nvidia-nvtx-cu11==11.7.91 in /opt/conda/envs/tf_gpu_env/lib/python3.9/site-packages (from torch>=1.4.0->trl) (11.7.91)\n",
      "Requirement already satisfied: triton==2.0.0 in /opt/conda/envs/tf_gpu_env/lib/python3.9/site-packages (from torch>=1.4.0->trl) (2.0.0)\n",
      "Requirement already satisfied: setuptools in /opt/conda/envs/tf_gpu_env/lib/python3.9/site-packages (from nvidia-cublas-cu11==11.10.3.66->torch>=1.4.0->trl) (68.1.2)\n",
      "Requirement already satisfied: wheel in /opt/conda/envs/tf_gpu_env/lib/python3.9/site-packages (from nvidia-cublas-cu11==11.10.3.66->torch>=1.4.0->trl) (0.41.2)\n",
      "Requirement already satisfied: cmake in /opt/conda/envs/tf_gpu_env/lib/python3.9/site-packages (from triton==2.0.0->torch>=1.4.0->trl) (3.27.4.1)\n",
      "Requirement already satisfied: lit in /opt/conda/envs/tf_gpu_env/lib/python3.9/site-packages (from triton==2.0.0->torch>=1.4.0->trl) (16.0.6)\n",
      "Requirement already satisfied: pyarrow>=8.0.0 in /opt/conda/envs/tf_gpu_env/lib/python3.9/site-packages (from datasets->trl) (13.0.0)\n",
      "Requirement already satisfied: dill<0.3.8,>=0.3.0 in /opt/conda/envs/tf_gpu_env/lib/python3.9/site-packages (from datasets->trl) (0.3.7)\n",
      "Requirement already satisfied: pandas in /opt/conda/envs/tf_gpu_env/lib/python3.9/site-packages (from datasets->trl) (1.5.2)\n",
      "Requirement already satisfied: xxhash in /opt/conda/envs/tf_gpu_env/lib/python3.9/site-packages (from datasets->trl) (3.3.0)\n",
      "Requirement already satisfied: multiprocess in /opt/conda/envs/tf_gpu_env/lib/python3.9/site-packages (from datasets->trl) (0.70.15)\n",
      "Requirement already satisfied: aiohttp in /opt/conda/envs/tf_gpu_env/lib/python3.9/site-packages (from datasets->trl) (3.8.3)\n",
      "Requirement already satisfied: charset-normalizer<3,>=2 in /opt/conda/envs/tf_gpu_env/lib/python3.9/site-packages (from requests->transformers) (2.0.4)\n",
      "Requirement already satisfied: idna<4,>=2.5 in /opt/conda/envs/tf_gpu_env/lib/python3.9/site-packages (from requests->transformers) (3.4)\n",
      "Requirement already satisfied: urllib3<1.27,>=1.21.1 in /opt/conda/envs/tf_gpu_env/lib/python3.9/site-packages (from requests->transformers) (1.26.14)\n",
      "Requirement already satisfied: certifi>=2017.4.17 in /opt/conda/envs/tf_gpu_env/lib/python3.9/site-packages (from requests->transformers) (2022.12.7)\n",
      "Requirement already satisfied: attrs>=17.3.0 in /opt/conda/envs/tf_gpu_env/lib/python3.9/site-packages (from aiohttp->datasets->trl) (22.1.0)\n",
      "Requirement already satisfied: multidict<7.0,>=4.5 in /opt/conda/envs/tf_gpu_env/lib/python3.9/site-packages (from aiohttp->datasets->trl) (6.0.2)\n",
      "Requirement already satisfied: async-timeout<5.0,>=4.0.0a3 in /opt/conda/envs/tf_gpu_env/lib/python3.9/site-packages (from aiohttp->datasets->trl) (4.0.2)\n",
      "Requirement already satisfied: yarl<2.0,>=1.0 in /opt/conda/envs/tf_gpu_env/lib/python3.9/site-packages (from aiohttp->datasets->trl) (1.8.1)\n",
      "Requirement already satisfied: frozenlist>=1.1.1 in /opt/conda/envs/tf_gpu_env/lib/python3.9/site-packages (from aiohttp->datasets->trl) (1.3.3)\n",
      "Requirement already satisfied: aiosignal>=1.1.2 in /opt/conda/envs/tf_gpu_env/lib/python3.9/site-packages (from aiohttp->datasets->trl) (1.2.0)\n",
      "Requirement already satisfied: MarkupSafe>=2.0 in /opt/conda/envs/tf_gpu_env/lib/python3.9/site-packages (from jinja2->torch>=1.4.0->trl) (2.1.1)\n",
      "Requirement already satisfied: python-dateutil>=2.8.1 in /opt/conda/envs/tf_gpu_env/lib/python3.9/site-packages (from pandas->datasets->trl) (2.8.2)\n",
      "Requirement already satisfied: pytz>=2020.1 in /opt/conda/envs/tf_gpu_env/lib/python3.9/site-packages (from pandas->datasets->trl) (2022.7)\n",
      "Requirement already satisfied: mpmath>=0.19 in /opt/conda/envs/tf_gpu_env/lib/python3.9/site-packages (from sympy->torch>=1.4.0->trl) (1.3.0)\n",
      "Requirement already satisfied: six>=1.5 in /opt/conda/envs/tf_gpu_env/lib/python3.9/site-packages (from python-dateutil>=2.8.1->pandas->datasets->trl) (1.16.0)\n",
      "Using cached datasets-2.14.5-py3-none-any.whl (519 kB)\n",
      "Installing collected packages: datasets\n",
      "Successfully installed datasets-2.14.5\n"
     ]
    }
   ],
   "source": [
    "!pip install -U trl transformers accelerate"
   ]
  },
  {
   "cell_type": "code",
   "execution_count": 13,
   "id": "85652332",
   "metadata": {},
   "outputs": [
    {
     "name": "stdout",
     "output_type": "stream",
     "text": [
      "Requirement already satisfied: datasets in /opt/conda/envs/tf_gpu_env/lib/python3.9/site-packages (2.14.5)\n",
      "Requirement already satisfied: bitsandbytes in /opt/conda/envs/tf_gpu_env/lib/python3.9/site-packages (0.41.1)\n",
      "Requirement already satisfied: einops in /opt/conda/envs/tf_gpu_env/lib/python3.9/site-packages (0.6.1)\n",
      "Requirement already satisfied: wandb in /opt/conda/envs/tf_gpu_env/lib/python3.9/site-packages (0.15.10)\n",
      "Requirement already satisfied: numpy>=1.17 in /opt/conda/envs/tf_gpu_env/lib/python3.9/site-packages (from datasets) (1.23.0)\n",
      "Requirement already satisfied: pyarrow>=8.0.0 in /opt/conda/envs/tf_gpu_env/lib/python3.9/site-packages (from datasets) (13.0.0)\n",
      "Requirement already satisfied: dill<0.3.8,>=0.3.0 in /opt/conda/envs/tf_gpu_env/lib/python3.9/site-packages (from datasets) (0.3.7)\n",
      "Requirement already satisfied: pandas in /opt/conda/envs/tf_gpu_env/lib/python3.9/site-packages (from datasets) (1.5.2)\n",
      "Requirement already satisfied: requests>=2.19.0 in /opt/conda/envs/tf_gpu_env/lib/python3.9/site-packages (from datasets) (2.28.1)\n",
      "Requirement already satisfied: tqdm>=4.62.1 in /opt/conda/envs/tf_gpu_env/lib/python3.9/site-packages (from datasets) (4.66.1)\n",
      "Requirement already satisfied: xxhash in /opt/conda/envs/tf_gpu_env/lib/python3.9/site-packages (from datasets) (3.3.0)\n",
      "Requirement already satisfied: multiprocess in /opt/conda/envs/tf_gpu_env/lib/python3.9/site-packages (from datasets) (0.70.15)\n",
      "Requirement already satisfied: fsspec[http]<2023.9.0,>=2023.1.0 in /opt/conda/envs/tf_gpu_env/lib/python3.9/site-packages (from datasets) (2023.6.0)\n",
      "Requirement already satisfied: aiohttp in /opt/conda/envs/tf_gpu_env/lib/python3.9/site-packages (from datasets) (3.8.3)\n",
      "Requirement already satisfied: huggingface-hub<1.0.0,>=0.14.0 in /opt/conda/envs/tf_gpu_env/lib/python3.9/site-packages (from datasets) (0.17.1)\n",
      "Requirement already satisfied: packaging in /opt/conda/envs/tf_gpu_env/lib/python3.9/site-packages (from datasets) (22.0)\n",
      "Requirement already satisfied: pyyaml>=5.1 in /opt/conda/envs/tf_gpu_env/lib/python3.9/site-packages (from datasets) (6.0.1)\n",
      "Requirement already satisfied: Click!=8.0.0,>=7.1 in /opt/conda/envs/tf_gpu_env/lib/python3.9/site-packages (from wandb) (8.0.4)\n",
      "Requirement already satisfied: GitPython!=3.1.29,>=1.0.0 in /opt/conda/envs/tf_gpu_env/lib/python3.9/site-packages (from wandb) (3.1.36)\n",
      "Requirement already satisfied: psutil>=5.0.0 in /opt/conda/envs/tf_gpu_env/lib/python3.9/site-packages (from wandb) (5.9.0)\n",
      "Requirement already satisfied: sentry-sdk>=1.0.0 in /opt/conda/envs/tf_gpu_env/lib/python3.9/site-packages (from wandb) (1.31.0)\n",
      "Requirement already satisfied: docker-pycreds>=0.4.0 in /opt/conda/envs/tf_gpu_env/lib/python3.9/site-packages (from wandb) (0.4.0)\n",
      "Requirement already satisfied: pathtools in /opt/conda/envs/tf_gpu_env/lib/python3.9/site-packages (from wandb) (0.1.2)\n",
      "Requirement already satisfied: setproctitle in /opt/conda/envs/tf_gpu_env/lib/python3.9/site-packages (from wandb) (1.3.2)\n",
      "Requirement already satisfied: setuptools in /opt/conda/envs/tf_gpu_env/lib/python3.9/site-packages (from wandb) (68.1.2)\n",
      "Requirement already satisfied: appdirs>=1.4.3 in /opt/conda/envs/tf_gpu_env/lib/python3.9/site-packages (from wandb) (1.4.4)\n",
      "Requirement already satisfied: typing-extensions in /opt/conda/envs/tf_gpu_env/lib/python3.9/site-packages (from wandb) (4.4.0)\n",
      "Requirement already satisfied: protobuf!=4.21.0,<5,>=3.15.0 in /opt/conda/envs/tf_gpu_env/lib/python3.9/site-packages (from wandb) (3.20.3)\n",
      "Requirement already satisfied: six>=1.4.0 in /opt/conda/envs/tf_gpu_env/lib/python3.9/site-packages (from docker-pycreds>=0.4.0->wandb) (1.16.0)\n",
      "Requirement already satisfied: attrs>=17.3.0 in /opt/conda/envs/tf_gpu_env/lib/python3.9/site-packages (from aiohttp->datasets) (22.1.0)\n",
      "Requirement already satisfied: charset-normalizer<3.0,>=2.0 in /opt/conda/envs/tf_gpu_env/lib/python3.9/site-packages (from aiohttp->datasets) (2.0.4)\n",
      "Requirement already satisfied: multidict<7.0,>=4.5 in /opt/conda/envs/tf_gpu_env/lib/python3.9/site-packages (from aiohttp->datasets) (6.0.2)\n",
      "Requirement already satisfied: async-timeout<5.0,>=4.0.0a3 in /opt/conda/envs/tf_gpu_env/lib/python3.9/site-packages (from aiohttp->datasets) (4.0.2)\n",
      "Requirement already satisfied: yarl<2.0,>=1.0 in /opt/conda/envs/tf_gpu_env/lib/python3.9/site-packages (from aiohttp->datasets) (1.8.1)\n",
      "Requirement already satisfied: frozenlist>=1.1.1 in /opt/conda/envs/tf_gpu_env/lib/python3.9/site-packages (from aiohttp->datasets) (1.3.3)\n",
      "Requirement already satisfied: aiosignal>=1.1.2 in /opt/conda/envs/tf_gpu_env/lib/python3.9/site-packages (from aiohttp->datasets) (1.2.0)\n",
      "Requirement already satisfied: gitdb<5,>=4.0.1 in /opt/conda/envs/tf_gpu_env/lib/python3.9/site-packages (from GitPython!=3.1.29,>=1.0.0->wandb) (4.0.10)\n",
      "Requirement already satisfied: filelock in /opt/conda/envs/tf_gpu_env/lib/python3.9/site-packages (from huggingface-hub<1.0.0,>=0.14.0->datasets) (3.12.4)\n",
      "Requirement already satisfied: idna<4,>=2.5 in /opt/conda/envs/tf_gpu_env/lib/python3.9/site-packages (from requests>=2.19.0->datasets) (3.4)\n",
      "Requirement already satisfied: urllib3<1.27,>=1.21.1 in /opt/conda/envs/tf_gpu_env/lib/python3.9/site-packages (from requests>=2.19.0->datasets) (1.26.14)\n",
      "Requirement already satisfied: certifi>=2017.4.17 in /opt/conda/envs/tf_gpu_env/lib/python3.9/site-packages (from requests>=2.19.0->datasets) (2022.12.7)\n",
      "Requirement already satisfied: python-dateutil>=2.8.1 in /opt/conda/envs/tf_gpu_env/lib/python3.9/site-packages (from pandas->datasets) (2.8.2)\n",
      "Requirement already satisfied: pytz>=2020.1 in /opt/conda/envs/tf_gpu_env/lib/python3.9/site-packages (from pandas->datasets) (2022.7)\n",
      "Requirement already satisfied: smmap<6,>=3.0.1 in /opt/conda/envs/tf_gpu_env/lib/python3.9/site-packages (from gitdb<5,>=4.0.1->GitPython!=3.1.29,>=1.0.0->wandb) (5.0.0)\n"
     ]
    }
   ],
   "source": [
    "!pip install datasets bitsandbytes einops wandb"
   ]
  },
  {
   "cell_type": "code",
   "execution_count": 40,
   "id": "efeb0978",
   "metadata": {},
   "outputs": [
    {
     "name": "stdout",
     "output_type": "stream",
     "text": [
      "Found existing installation: accelerate 0.22.0\n",
      "Uninstalling accelerate-0.22.0:\n",
      "  Successfully uninstalled accelerate-0.22.0\n",
      "Collecting accelerate==0.20.3\n",
      "  Obtaining dependency information for accelerate==0.20.3 from https://files.pythonhosted.org/packages/10/d3/5382aa337d3e67214003a17b06bfc07cf0334356b4e8aaf3b12b0d38c83f/accelerate-0.20.3-py3-none-any.whl.metadata\n",
      "  Downloading accelerate-0.20.3-py3-none-any.whl.metadata (17 kB)\n",
      "Requirement already satisfied: numpy>=1.17 in /opt/conda/envs/tf_gpu_env/lib/python3.9/site-packages (from accelerate==0.20.3) (1.23.0)\n",
      "Requirement already satisfied: packaging>=20.0 in /opt/conda/envs/tf_gpu_env/lib/python3.9/site-packages (from accelerate==0.20.3) (22.0)\n",
      "Requirement already satisfied: psutil in /opt/conda/envs/tf_gpu_env/lib/python3.9/site-packages (from accelerate==0.20.3) (5.9.0)\n",
      "Requirement already satisfied: pyyaml in /opt/conda/envs/tf_gpu_env/lib/python3.9/site-packages (from accelerate==0.20.3) (6.0.1)\n",
      "Requirement already satisfied: torch>=1.6.0 in /opt/conda/envs/tf_gpu_env/lib/python3.9/site-packages (from accelerate==0.20.3) (2.0.1)\n",
      "Requirement already satisfied: filelock in /opt/conda/envs/tf_gpu_env/lib/python3.9/site-packages (from torch>=1.6.0->accelerate==0.20.3) (3.12.4)\n",
      "Requirement already satisfied: typing-extensions in /opt/conda/envs/tf_gpu_env/lib/python3.9/site-packages (from torch>=1.6.0->accelerate==0.20.3) (4.4.0)\n",
      "Requirement already satisfied: sympy in /opt/conda/envs/tf_gpu_env/lib/python3.9/site-packages (from torch>=1.6.0->accelerate==0.20.3) (1.12)\n",
      "Requirement already satisfied: networkx in /opt/conda/envs/tf_gpu_env/lib/python3.9/site-packages (from torch>=1.6.0->accelerate==0.20.3) (3.1)\n",
      "Requirement already satisfied: jinja2 in /opt/conda/envs/tf_gpu_env/lib/python3.9/site-packages (from torch>=1.6.0->accelerate==0.20.3) (3.1.2)\n",
      "Requirement already satisfied: nvidia-cuda-nvrtc-cu11==11.7.99 in /opt/conda/envs/tf_gpu_env/lib/python3.9/site-packages (from torch>=1.6.0->accelerate==0.20.3) (11.7.99)\n",
      "Requirement already satisfied: nvidia-cuda-runtime-cu11==11.7.99 in /opt/conda/envs/tf_gpu_env/lib/python3.9/site-packages (from torch>=1.6.0->accelerate==0.20.3) (11.7.99)\n",
      "Requirement already satisfied: nvidia-cuda-cupti-cu11==11.7.101 in /opt/conda/envs/tf_gpu_env/lib/python3.9/site-packages (from torch>=1.6.0->accelerate==0.20.3) (11.7.101)\n",
      "Requirement already satisfied: nvidia-cudnn-cu11==8.5.0.96 in /opt/conda/envs/tf_gpu_env/lib/python3.9/site-packages (from torch>=1.6.0->accelerate==0.20.3) (8.5.0.96)\n",
      "Requirement already satisfied: nvidia-cublas-cu11==11.10.3.66 in /opt/conda/envs/tf_gpu_env/lib/python3.9/site-packages (from torch>=1.6.0->accelerate==0.20.3) (11.10.3.66)\n",
      "Requirement already satisfied: nvidia-cufft-cu11==10.9.0.58 in /opt/conda/envs/tf_gpu_env/lib/python3.9/site-packages (from torch>=1.6.0->accelerate==0.20.3) (10.9.0.58)\n",
      "Requirement already satisfied: nvidia-curand-cu11==10.2.10.91 in /opt/conda/envs/tf_gpu_env/lib/python3.9/site-packages (from torch>=1.6.0->accelerate==0.20.3) (10.2.10.91)\n",
      "Requirement already satisfied: nvidia-cusolver-cu11==11.4.0.1 in /opt/conda/envs/tf_gpu_env/lib/python3.9/site-packages (from torch>=1.6.0->accelerate==0.20.3) (11.4.0.1)\n",
      "Requirement already satisfied: nvidia-cusparse-cu11==11.7.4.91 in /opt/conda/envs/tf_gpu_env/lib/python3.9/site-packages (from torch>=1.6.0->accelerate==0.20.3) (11.7.4.91)\n",
      "Requirement already satisfied: nvidia-nccl-cu11==2.14.3 in /opt/conda/envs/tf_gpu_env/lib/python3.9/site-packages (from torch>=1.6.0->accelerate==0.20.3) (2.14.3)\n",
      "Requirement already satisfied: nvidia-nvtx-cu11==11.7.91 in /opt/conda/envs/tf_gpu_env/lib/python3.9/site-packages (from torch>=1.6.0->accelerate==0.20.3) (11.7.91)\n",
      "Requirement already satisfied: triton==2.0.0 in /opt/conda/envs/tf_gpu_env/lib/python3.9/site-packages (from torch>=1.6.0->accelerate==0.20.3) (2.0.0)\n",
      "Requirement already satisfied: setuptools in /opt/conda/envs/tf_gpu_env/lib/python3.9/site-packages (from nvidia-cublas-cu11==11.10.3.66->torch>=1.6.0->accelerate==0.20.3) (68.1.2)\n",
      "Requirement already satisfied: wheel in /opt/conda/envs/tf_gpu_env/lib/python3.9/site-packages (from nvidia-cublas-cu11==11.10.3.66->torch>=1.6.0->accelerate==0.20.3) (0.41.2)\n",
      "Requirement already satisfied: cmake in /opt/conda/envs/tf_gpu_env/lib/python3.9/site-packages (from triton==2.0.0->torch>=1.6.0->accelerate==0.20.3) (3.27.4.1)\n",
      "Requirement already satisfied: lit in /opt/conda/envs/tf_gpu_env/lib/python3.9/site-packages (from triton==2.0.0->torch>=1.6.0->accelerate==0.20.3) (16.0.6)\n",
      "Requirement already satisfied: MarkupSafe>=2.0 in /opt/conda/envs/tf_gpu_env/lib/python3.9/site-packages (from jinja2->torch>=1.6.0->accelerate==0.20.3) (2.1.1)\n",
      "Requirement already satisfied: mpmath>=0.19 in /opt/conda/envs/tf_gpu_env/lib/python3.9/site-packages (from sympy->torch>=1.6.0->accelerate==0.20.3) (1.3.0)\n",
      "Downloading accelerate-0.20.3-py3-none-any.whl (227 kB)\n",
      "\u001b[2K   \u001b[90m━━━━━━━━━━━━━━━━━━━━━━━━━━━━━━━━━━━━━━━━\u001b[0m \u001b[32m227.6/227.6 kB\u001b[0m \u001b[31m3.8 MB/s\u001b[0m eta \u001b[36m0:00:00\u001b[0m:00:01\u001b[0m\n",
      "\u001b[?25hInstalling collected packages: accelerate\n",
      "\u001b[31mERROR: pip's dependency resolver does not currently take into account all the packages that are installed. This behaviour is the source of the following dependency conflicts.\n",
      "peft 0.6.0.dev0 requires accelerate>=0.21.0, but you have accelerate 0.20.3 which is incompatible.\u001b[0m\u001b[31m\n",
      "\u001b[0mSuccessfully installed accelerate-0.20.3\n"
     ]
    }
   ],
   "source": [
    "!pip uninstall -y accelerate\n",
    "!pip install accelerate==0.20.3"
   ]
  },
  {
   "cell_type": "code",
   "execution_count": 36,
   "id": "4cab216c",
   "metadata": {},
   "outputs": [
    {
     "name": "stdout",
     "output_type": "stream",
     "text": [
      "Looking in indexes: https://test.pypi.org/simple/\n",
      "Collecting bitsandbytes\n",
      "  Obtaining dependency information for bitsandbytes from https://test-files.pythonhosted.org/packages/5c/e0/597d593ec3b6cf5ea7eb4894a545045bd95611de8a316a2a1eaa838a2459/bitsandbytes-0.39.0-py3-none-any.whl.metadata\n",
      "  Downloading https://test-files.pythonhosted.org/packages/5c/e0/597d593ec3b6cf5ea7eb4894a545045bd95611de8a316a2a1eaa838a2459/bitsandbytes-0.39.0-py3-none-any.whl.metadata (9.8 kB)\n",
      "Downloading https://test-files.pythonhosted.org/packages/5c/e0/597d593ec3b6cf5ea7eb4894a545045bd95611de8a316a2a1eaa838a2459/bitsandbytes-0.39.0-py3-none-any.whl (95.8 MB)\n",
      "\u001b[2K   \u001b[90m━━━━━━━━━━━━━━━━━━━━━━━━━━━━━━━━━━━━━━━━\u001b[0m \u001b[32m95.8/95.8 MB\u001b[0m \u001b[31m6.2 MB/s\u001b[0m eta \u001b[36m0:00:00\u001b[0m:00:01\u001b[0m00:01\u001b[0m\n",
      "\u001b[?25hInstalling collected packages: bitsandbytes\n",
      "Successfully installed bitsandbytes-0.39.0\n",
      "Note: you may need to restart the kernel to use updated packages.\n"
     ]
    }
   ],
   "source": [
    "pip install -i https://test.pypi.org/simple/ bitsandbytes"
   ]
  },
  {
   "cell_type": "code",
   "execution_count": 33,
   "id": "19696572",
   "metadata": {},
   "outputs": [
    {
     "name": "stdout",
     "output_type": "stream",
     "text": [
      "Collecting datasets==2.13.1\n",
      "  Obtaining dependency information for datasets==2.13.1 from https://files.pythonhosted.org/packages/12/17/95e48481a826f85c918e0610257de493164096e29fe16ec408c0b862e057/datasets-2.13.1-py3-none-any.whl.metadata\n",
      "  Downloading datasets-2.13.1-py3-none-any.whl.metadata (20 kB)\n",
      "Requirement already satisfied: numpy>=1.17 in /opt/conda/envs/tf_gpu_env/lib/python3.9/site-packages (from datasets==2.13.1) (1.23.0)\n",
      "Requirement already satisfied: pyarrow>=8.0.0 in /opt/conda/envs/tf_gpu_env/lib/python3.9/site-packages (from datasets==2.13.1) (13.0.0)\n",
      "Collecting dill<0.3.7,>=0.3.0 (from datasets==2.13.1)\n",
      "  Downloading dill-0.3.6-py3-none-any.whl (110 kB)\n",
      "\u001b[2K     \u001b[90m━━━━━━━━━━━━━━━━━━━━━━━━━━━━━━━━━━━━━━━\u001b[0m \u001b[32m110.5/110.5 kB\u001b[0m \u001b[31m2.5 MB/s\u001b[0m eta \u001b[36m0:00:00\u001b[0ma \u001b[36m0:00:01\u001b[0m\n",
      "\u001b[?25hRequirement already satisfied: pandas in /opt/conda/envs/tf_gpu_env/lib/python3.9/site-packages (from datasets==2.13.1) (1.5.2)\n",
      "Requirement already satisfied: requests>=2.19.0 in /opt/conda/envs/tf_gpu_env/lib/python3.9/site-packages (from datasets==2.13.1) (2.28.1)\n",
      "Requirement already satisfied: tqdm>=4.62.1 in /opt/conda/envs/tf_gpu_env/lib/python3.9/site-packages (from datasets==2.13.1) (4.66.1)\n",
      "Requirement already satisfied: xxhash in /opt/conda/envs/tf_gpu_env/lib/python3.9/site-packages (from datasets==2.13.1) (3.3.0)\n",
      "Requirement already satisfied: multiprocess in /opt/conda/envs/tf_gpu_env/lib/python3.9/site-packages (from datasets==2.13.1) (0.70.15)\n",
      "Requirement already satisfied: fsspec[http]>=2021.11.1 in /opt/conda/envs/tf_gpu_env/lib/python3.9/site-packages (from datasets==2.13.1) (2023.6.0)\n",
      "Requirement already satisfied: aiohttp in /opt/conda/envs/tf_gpu_env/lib/python3.9/site-packages (from datasets==2.13.1) (3.8.3)\n",
      "Requirement already satisfied: huggingface-hub<1.0.0,>=0.11.0 in /opt/conda/envs/tf_gpu_env/lib/python3.9/site-packages (from datasets==2.13.1) (0.17.1)\n",
      "Requirement already satisfied: packaging in /opt/conda/envs/tf_gpu_env/lib/python3.9/site-packages (from datasets==2.13.1) (22.0)\n",
      "Requirement already satisfied: pyyaml>=5.1 in /opt/conda/envs/tf_gpu_env/lib/python3.9/site-packages (from datasets==2.13.1) (6.0.1)\n",
      "Requirement already satisfied: attrs>=17.3.0 in /opt/conda/envs/tf_gpu_env/lib/python3.9/site-packages (from aiohttp->datasets==2.13.1) (22.1.0)\n",
      "Requirement already satisfied: charset-normalizer<3.0,>=2.0 in /opt/conda/envs/tf_gpu_env/lib/python3.9/site-packages (from aiohttp->datasets==2.13.1) (2.0.4)\n",
      "Requirement already satisfied: multidict<7.0,>=4.5 in /opt/conda/envs/tf_gpu_env/lib/python3.9/site-packages (from aiohttp->datasets==2.13.1) (6.0.2)\n",
      "Requirement already satisfied: async-timeout<5.0,>=4.0.0a3 in /opt/conda/envs/tf_gpu_env/lib/python3.9/site-packages (from aiohttp->datasets==2.13.1) (4.0.2)\n",
      "Requirement already satisfied: yarl<2.0,>=1.0 in /opt/conda/envs/tf_gpu_env/lib/python3.9/site-packages (from aiohttp->datasets==2.13.1) (1.8.1)\n",
      "Requirement already satisfied: frozenlist>=1.1.1 in /opt/conda/envs/tf_gpu_env/lib/python3.9/site-packages (from aiohttp->datasets==2.13.1) (1.3.3)\n",
      "Requirement already satisfied: aiosignal>=1.1.2 in /opt/conda/envs/tf_gpu_env/lib/python3.9/site-packages (from aiohttp->datasets==2.13.1) (1.2.0)\n",
      "Requirement already satisfied: filelock in /opt/conda/envs/tf_gpu_env/lib/python3.9/site-packages (from huggingface-hub<1.0.0,>=0.11.0->datasets==2.13.1) (3.12.4)\n",
      "Requirement already satisfied: typing-extensions>=3.7.4.3 in /opt/conda/envs/tf_gpu_env/lib/python3.9/site-packages (from huggingface-hub<1.0.0,>=0.11.0->datasets==2.13.1) (4.4.0)\n",
      "Requirement already satisfied: idna<4,>=2.5 in /opt/conda/envs/tf_gpu_env/lib/python3.9/site-packages (from requests>=2.19.0->datasets==2.13.1) (3.4)\n",
      "Requirement already satisfied: urllib3<1.27,>=1.21.1 in /opt/conda/envs/tf_gpu_env/lib/python3.9/site-packages (from requests>=2.19.0->datasets==2.13.1) (1.26.14)\n",
      "Requirement already satisfied: certifi>=2017.4.17 in /opt/conda/envs/tf_gpu_env/lib/python3.9/site-packages (from requests>=2.19.0->datasets==2.13.1) (2022.12.7)\n",
      "INFO: pip is looking at multiple versions of multiprocess to determine which version is compatible with other requirements. This could take a while.\n",
      "Collecting multiprocess (from datasets==2.13.1)\n",
      "  Downloading multiprocess-0.70.14-py39-none-any.whl (132 kB)\n",
      "\u001b[2K     \u001b[90m━━━━━━━━━━━━━━━━━━━━━━━━━━━━━━━━━━━━━━━\u001b[0m \u001b[32m132.9/132.9 kB\u001b[0m \u001b[31m2.4 MB/s\u001b[0m eta \u001b[36m0:00:00\u001b[0ma \u001b[36m0:00:01\u001b[0m\n",
      "\u001b[?25hRequirement already satisfied: python-dateutil>=2.8.1 in /opt/conda/envs/tf_gpu_env/lib/python3.9/site-packages (from pandas->datasets==2.13.1) (2.8.2)\n",
      "Requirement already satisfied: pytz>=2020.1 in /opt/conda/envs/tf_gpu_env/lib/python3.9/site-packages (from pandas->datasets==2.13.1) (2022.7)\n",
      "Requirement already satisfied: six>=1.5 in /opt/conda/envs/tf_gpu_env/lib/python3.9/site-packages (from python-dateutil>=2.8.1->pandas->datasets==2.13.1) (1.16.0)\n",
      "Downloading datasets-2.13.1-py3-none-any.whl (486 kB)\n",
      "\u001b[2K   \u001b[90m━━━━━━━━━━━━━━━━━━━━━━━━━━━━━━━━━━━━━━━━\u001b[0m \u001b[32m486.2/486.2 kB\u001b[0m \u001b[31m7.3 MB/s\u001b[0m eta \u001b[36m0:00:00\u001b[0mta \u001b[36m0:00:01\u001b[0m\n",
      "\u001b[?25hInstalling collected packages: dill, multiprocess, datasets\n",
      "  Attempting uninstall: dill\n",
      "    Found existing installation: dill 0.3.7\n",
      "    Uninstalling dill-0.3.7:\n",
      "      Successfully uninstalled dill-0.3.7\n",
      "  Attempting uninstall: multiprocess\n",
      "    Found existing installation: multiprocess 0.70.15\n",
      "    Uninstalling multiprocess-0.70.15:\n",
      "      Successfully uninstalled multiprocess-0.70.15\n",
      "Successfully installed datasets-2.13.1 dill-0.3.6 multiprocess-0.70.14\n"
     ]
    }
   ],
   "source": [
    "!pip install datasets==2.13.1"
   ]
  },
  {
   "cell_type": "code",
   "execution_count": 34,
   "id": "b49dc3a4",
   "metadata": {},
   "outputs": [
    {
     "name": "stderr",
     "output_type": "stream",
     "text": [
      "Repo card metadata block was not found. Setting CardData to empty.\n"
     ]
    },
    {
     "name": "stdout",
     "output_type": "stream",
     "text": [
      "<class 'datasets.arrow_dataset.Dataset'>\n"
     ]
    }
   ],
   "source": [
    "from datasets import load_dataset\n",
    "\n",
    "dataset_name = \"timdettmers/openassistant-guanaco\"\n",
    "# dataset = load_dataset(dataset_name, split=\"train\")\n",
    "dataset = load_dataset(dataset_name, split='train[:100]')\n",
    "\n",
    "print(type(dataset))"
   ]
  },
  {
   "cell_type": "markdown",
   "id": "23eaa6e8",
   "metadata": {},
   "source": [
    "# Loading the Model\n",
    "\n",
    "In this section we will load the [Falcon 7B model](https://huggingface.co/tiiuae/falcon-7b), quantize it in 4bit and attach LoRA adapters on it. Let's get started!"
   ]
  },
  {
   "cell_type": "code",
   "execution_count": 39,
   "id": "002458ca",
   "metadata": {},
   "outputs": [
    {
     "ename": "ImportError",
     "evalue": "Using `load_in_8bit=True` requires Accelerate: `pip install accelerate` and the latest version of bitsandbytes `pip install -i https://test.pypi.org/simple/ bitsandbytes` or pip install bitsandbytes` ",
     "output_type": "error",
     "traceback": [
      "\u001b[0;31m---------------------------------------------------------------------------\u001b[0m",
      "\u001b[0;31mImportError\u001b[0m                               Traceback (most recent call last)",
      "Cell \u001b[0;32mIn[39], line 12\u001b[0m\n\u001b[1;32m      4\u001b[0m model_name \u001b[38;5;241m=\u001b[39m \u001b[38;5;124m\"\u001b[39m\u001b[38;5;124mybelkada/falcon-7b-sharded-bf16\u001b[39m\u001b[38;5;124m\"\u001b[39m\n\u001b[1;32m      6\u001b[0m bnb_config \u001b[38;5;241m=\u001b[39m BitsAndBytesConfig(\n\u001b[1;32m      7\u001b[0m     load_in_4bit\u001b[38;5;241m=\u001b[39m\u001b[38;5;28;01mTrue\u001b[39;00m,\n\u001b[1;32m      8\u001b[0m     bnb_4bit_quant_type\u001b[38;5;241m=\u001b[39m\u001b[38;5;124m\"\u001b[39m\u001b[38;5;124mnf4\u001b[39m\u001b[38;5;124m\"\u001b[39m,\n\u001b[1;32m      9\u001b[0m     bnb_4bit_compute_dtype\u001b[38;5;241m=\u001b[39mtorch\u001b[38;5;241m.\u001b[39mfloat16,\n\u001b[1;32m     10\u001b[0m )\n\u001b[0;32m---> 12\u001b[0m model \u001b[38;5;241m=\u001b[39m \u001b[43mAutoModelForCausalLM\u001b[49m\u001b[38;5;241;43m.\u001b[39;49m\u001b[43mfrom_pretrained\u001b[49m\u001b[43m(\u001b[49m\n\u001b[1;32m     13\u001b[0m \u001b[43m    \u001b[49m\u001b[43mmodel_name\u001b[49m\u001b[43m,\u001b[49m\n\u001b[1;32m     14\u001b[0m \u001b[43m    \u001b[49m\u001b[43mquantization_config\u001b[49m\u001b[38;5;241;43m=\u001b[39;49m\u001b[43mbnb_config\u001b[49m\u001b[43m,\u001b[49m\n\u001b[1;32m     15\u001b[0m \u001b[43m    \u001b[49m\u001b[43mtrust_remote_code\u001b[49m\u001b[38;5;241;43m=\u001b[39;49m\u001b[38;5;28;43;01mTrue\u001b[39;49;00m\n\u001b[1;32m     16\u001b[0m \u001b[43m)\u001b[49m\n\u001b[1;32m     17\u001b[0m model\u001b[38;5;241m.\u001b[39mconfig\u001b[38;5;241m.\u001b[39muse_cache \u001b[38;5;241m=\u001b[39m \u001b[38;5;28;01mFalse\u001b[39;00m\n",
      "File \u001b[0;32m/opt/conda/envs/tf_gpu_env/lib/python3.9/site-packages/transformers/models/auto/auto_factory.py:558\u001b[0m, in \u001b[0;36m_BaseAutoModelClass.from_pretrained\u001b[0;34m(cls, pretrained_model_name_or_path, *model_args, **kwargs)\u001b[0m\n\u001b[1;32m    556\u001b[0m     \u001b[38;5;28;01melse\u001b[39;00m:\n\u001b[1;32m    557\u001b[0m         \u001b[38;5;28mcls\u001b[39m\u001b[38;5;241m.\u001b[39mregister(config\u001b[38;5;241m.\u001b[39m\u001b[38;5;18m__class__\u001b[39m, model_class, exist_ok\u001b[38;5;241m=\u001b[39m\u001b[38;5;28;01mTrue\u001b[39;00m)\n\u001b[0;32m--> 558\u001b[0m     \u001b[38;5;28;01mreturn\u001b[39;00m \u001b[43mmodel_class\u001b[49m\u001b[38;5;241;43m.\u001b[39;49m\u001b[43mfrom_pretrained\u001b[49m\u001b[43m(\u001b[49m\n\u001b[1;32m    559\u001b[0m \u001b[43m        \u001b[49m\u001b[43mpretrained_model_name_or_path\u001b[49m\u001b[43m,\u001b[49m\u001b[43m \u001b[49m\u001b[38;5;241;43m*\u001b[39;49m\u001b[43mmodel_args\u001b[49m\u001b[43m,\u001b[49m\u001b[43m \u001b[49m\u001b[43mconfig\u001b[49m\u001b[38;5;241;43m=\u001b[39;49m\u001b[43mconfig\u001b[49m\u001b[43m,\u001b[49m\u001b[43m \u001b[49m\u001b[38;5;241;43m*\u001b[39;49m\u001b[38;5;241;43m*\u001b[39;49m\u001b[43mhub_kwargs\u001b[49m\u001b[43m,\u001b[49m\u001b[43m \u001b[49m\u001b[38;5;241;43m*\u001b[39;49m\u001b[38;5;241;43m*\u001b[39;49m\u001b[43mkwargs\u001b[49m\n\u001b[1;32m    560\u001b[0m \u001b[43m    \u001b[49m\u001b[43m)\u001b[49m\n\u001b[1;32m    561\u001b[0m \u001b[38;5;28;01melif\u001b[39;00m \u001b[38;5;28mtype\u001b[39m(config) \u001b[38;5;129;01min\u001b[39;00m \u001b[38;5;28mcls\u001b[39m\u001b[38;5;241m.\u001b[39m_model_mapping\u001b[38;5;241m.\u001b[39mkeys():\n\u001b[1;32m    562\u001b[0m     model_class \u001b[38;5;241m=\u001b[39m _get_model_class(config, \u001b[38;5;28mcls\u001b[39m\u001b[38;5;241m.\u001b[39m_model_mapping)\n",
      "File \u001b[0;32m/opt/conda/envs/tf_gpu_env/lib/python3.9/site-packages/transformers/modeling_utils.py:2482\u001b[0m, in \u001b[0;36mPreTrainedModel.from_pretrained\u001b[0;34m(cls, pretrained_model_name_or_path, config, cache_dir, ignore_mismatched_sizes, force_download, local_files_only, token, revision, use_safetensors, *model_args, **kwargs)\u001b[0m\n\u001b[1;32m   2480\u001b[0m \u001b[38;5;28;01mif\u001b[39;00m load_in_8bit \u001b[38;5;129;01mor\u001b[39;00m load_in_4bit:\n\u001b[1;32m   2481\u001b[0m     \u001b[38;5;28;01mif\u001b[39;00m \u001b[38;5;129;01mnot\u001b[39;00m (is_accelerate_available() \u001b[38;5;129;01mand\u001b[39;00m is_bitsandbytes_available()):\n\u001b[0;32m-> 2482\u001b[0m         \u001b[38;5;28;01mraise\u001b[39;00m \u001b[38;5;167;01mImportError\u001b[39;00m(\n\u001b[1;32m   2483\u001b[0m             \u001b[38;5;124m\"\u001b[39m\u001b[38;5;124mUsing `load_in_8bit=True` requires Accelerate: `pip install accelerate` and the latest version of\u001b[39m\u001b[38;5;124m\"\u001b[39m\n\u001b[1;32m   2484\u001b[0m             \u001b[38;5;124m\"\u001b[39m\u001b[38;5;124m bitsandbytes `pip install -i https://test.pypi.org/simple/ bitsandbytes` or\u001b[39m\u001b[38;5;124m\"\u001b[39m\n\u001b[1;32m   2485\u001b[0m             \u001b[38;5;124m\"\u001b[39m\u001b[38;5;124m pip install bitsandbytes` \u001b[39m\u001b[38;5;124m\"\u001b[39m\n\u001b[1;32m   2486\u001b[0m         )\n\u001b[1;32m   2488\u001b[0m     \u001b[38;5;28;01mif\u001b[39;00m torch_dtype \u001b[38;5;129;01mis\u001b[39;00m \u001b[38;5;28;01mNone\u001b[39;00m:\n\u001b[1;32m   2489\u001b[0m         \u001b[38;5;66;03m# We force the `dtype` to be float16, this is a requirement from `bitsandbytes`\u001b[39;00m\n\u001b[1;32m   2490\u001b[0m         logger\u001b[38;5;241m.\u001b[39minfo(\n\u001b[1;32m   2491\u001b[0m             \u001b[38;5;124mf\u001b[39m\u001b[38;5;124m\"\u001b[39m\u001b[38;5;124mOverriding torch_dtype=\u001b[39m\u001b[38;5;132;01m{\u001b[39;00mtorch_dtype\u001b[38;5;132;01m}\u001b[39;00m\u001b[38;5;124m with `torch_dtype=torch.float16` due to \u001b[39m\u001b[38;5;124m\"\u001b[39m\n\u001b[1;32m   2492\u001b[0m             \u001b[38;5;124m\"\u001b[39m\u001b[38;5;124mrequirements of `bitsandbytes` to enable model loading in 8-bit or 4-bit. \u001b[39m\u001b[38;5;124m\"\u001b[39m\n\u001b[1;32m   2493\u001b[0m             \u001b[38;5;124m\"\u001b[39m\u001b[38;5;124mPass your own torch_dtype to specify the dtype of the remaining non-linear layers or pass\u001b[39m\u001b[38;5;124m\"\u001b[39m\n\u001b[1;32m   2494\u001b[0m             \u001b[38;5;124m\"\u001b[39m\u001b[38;5;124m torch_dtype=torch.float16 to remove this warning.\u001b[39m\u001b[38;5;124m\"\u001b[39m\n\u001b[1;32m   2495\u001b[0m         )\n",
      "\u001b[0;31mImportError\u001b[0m: Using `load_in_8bit=True` requires Accelerate: `pip install accelerate` and the latest version of bitsandbytes `pip install -i https://test.pypi.org/simple/ bitsandbytes` or pip install bitsandbytes` "
     ]
    }
   ],
   "source": [
    "import torch\n",
    "from transformers import AutoModelForCausalLM, AutoTokenizer, BitsAndBytesConfig, AutoTokenizer\n",
    "\n",
    "model_name = \"ybelkada/falcon-7b-sharded-bf16\"\n",
    "\n",
    "bnb_config = BitsAndBytesConfig(\n",
    "    load_in_4bit=True,\n",
    "    bnb_4bit_quant_type=\"nf4\",\n",
    "    bnb_4bit_compute_dtype=torch.float16,\n",
    ")\n",
    "\n",
    "model = AutoModelForCausalLM.from_pretrained(\n",
    "    model_name,\n",
    "    quantization_config=bnb_config,\n",
    "    trust_remote_code=True\n",
    ")\n",
    "model.config.use_cache = False"
   ]
  },
  {
   "cell_type": "code",
   "execution_count": 20,
   "id": "679f08e3",
   "metadata": {},
   "outputs": [
    {
     "name": "stdout",
     "output_type": "stream",
     "text": [
      "accelerate               0.22.0\n",
      "bitsandbytes             0.41.1\n"
     ]
    }
   ],
   "source": [
    "!pip list | grep -E \"accelerate|bitsandbytes\""
   ]
  },
  {
   "cell_type": "code",
   "execution_count": 25,
   "id": "a24dd847",
   "metadata": {},
   "outputs": [
    {
     "ename": "ImportError",
     "evalue": "cannot import name 'is_accelerate_available' from 'transformers.file_utils' (/opt/conda/envs/tf_gpu_env/lib/python3.9/site-packages/transformers/file_utils.py)",
     "output_type": "error",
     "traceback": [
      "\u001b[0;31m---------------------------------------------------------------------------\u001b[0m",
      "\u001b[0;31mImportError\u001b[0m                               Traceback (most recent call last)",
      "Cell \u001b[0;32mIn[25], line 1\u001b[0m\n\u001b[0;32m----> 1\u001b[0m \u001b[38;5;28;01mfrom\u001b[39;00m \u001b[38;5;21;01mtransformers\u001b[39;00m\u001b[38;5;21;01m.\u001b[39;00m\u001b[38;5;21;01mfile_utils\u001b[39;00m \u001b[38;5;28;01mimport\u001b[39;00m (\n\u001b[1;32m      2\u001b[0m     is_accelerate_available, \n\u001b[1;32m      3\u001b[0m     is_bitsandbytes_available\n\u001b[1;32m      4\u001b[0m )\n\u001b[1;32m      6\u001b[0m \u001b[38;5;28mprint\u001b[39m(\u001b[38;5;124m\"\u001b[39m\u001b[38;5;124mAccelerate available:\u001b[39m\u001b[38;5;124m\"\u001b[39m, is_accelerate_available())\n\u001b[1;32m      7\u001b[0m \u001b[38;5;28mprint\u001b[39m(\u001b[38;5;124m\"\u001b[39m\u001b[38;5;124mBitsAndBytes available:\u001b[39m\u001b[38;5;124m\"\u001b[39m, is_bitsandbytes_available())\n",
      "\u001b[0;31mImportError\u001b[0m: cannot import name 'is_accelerate_available' from 'transformers.file_utils' (/opt/conda/envs/tf_gpu_env/lib/python3.9/site-packages/transformers/file_utils.py)"
     ]
    }
   ],
   "source": [
    "from transformers.file_utils import (\n",
    "    is_accelerate_available, \n",
    "    is_bitsandbytes_available\n",
    ")\n",
    "\n",
    "print(\"Accelerate available:\", is_accelerate_available())\n",
    "print(\"BitsAndBytes available:\", is_bitsandbytes_available())"
   ]
  },
  {
   "cell_type": "code",
   "execution_count": 26,
   "id": "ed996ee2",
   "metadata": {},
   "outputs": [
    {
     "name": "stdout",
     "output_type": "stream",
     "text": [
      "4.33.1\n"
     ]
    }
   ],
   "source": [
    "import transformers\n",
    "print(transformers.__version__)"
   ]
  },
  {
   "cell_type": "code",
   "execution_count": 28,
   "id": "e1b1db52",
   "metadata": {},
   "outputs": [
    {
     "name": "stdout",
     "output_type": "stream",
     "text": [
      "Requirement already satisfied: transformers in /opt/conda/envs/tf_gpu_env/lib/python3.9/site-packages (4.33.1)\n",
      "Requirement already satisfied: filelock in /opt/conda/envs/tf_gpu_env/lib/python3.9/site-packages (from transformers) (3.12.4)\n",
      "Requirement already satisfied: huggingface-hub<1.0,>=0.15.1 in /opt/conda/envs/tf_gpu_env/lib/python3.9/site-packages (from transformers) (0.17.1)\n",
      "Requirement already satisfied: numpy>=1.17 in /opt/conda/envs/tf_gpu_env/lib/python3.9/site-packages (from transformers) (1.23.0)\n",
      "Requirement already satisfied: packaging>=20.0 in /opt/conda/envs/tf_gpu_env/lib/python3.9/site-packages (from transformers) (22.0)\n",
      "Requirement already satisfied: pyyaml>=5.1 in /opt/conda/envs/tf_gpu_env/lib/python3.9/site-packages (from transformers) (6.0.1)\n",
      "Requirement already satisfied: regex!=2019.12.17 in /opt/conda/envs/tf_gpu_env/lib/python3.9/site-packages (from transformers) (2023.8.8)\n",
      "Requirement already satisfied: requests in /opt/conda/envs/tf_gpu_env/lib/python3.9/site-packages (from transformers) (2.28.1)\n",
      "Requirement already satisfied: tokenizers!=0.11.3,<0.14,>=0.11.1 in /opt/conda/envs/tf_gpu_env/lib/python3.9/site-packages (from transformers) (0.13.3)\n",
      "Requirement already satisfied: safetensors>=0.3.1 in /opt/conda/envs/tf_gpu_env/lib/python3.9/site-packages (from transformers) (0.3.3)\n",
      "Requirement already satisfied: tqdm>=4.27 in /opt/conda/envs/tf_gpu_env/lib/python3.9/site-packages (from transformers) (4.66.1)\n",
      "Requirement already satisfied: fsspec in /opt/conda/envs/tf_gpu_env/lib/python3.9/site-packages (from huggingface-hub<1.0,>=0.15.1->transformers) (2023.6.0)\n",
      "Requirement already satisfied: typing-extensions>=3.7.4.3 in /opt/conda/envs/tf_gpu_env/lib/python3.9/site-packages (from huggingface-hub<1.0,>=0.15.1->transformers) (4.4.0)\n",
      "Requirement already satisfied: charset-normalizer<3,>=2 in /opt/conda/envs/tf_gpu_env/lib/python3.9/site-packages (from requests->transformers) (2.0.4)\n",
      "Requirement already satisfied: idna<4,>=2.5 in /opt/conda/envs/tf_gpu_env/lib/python3.9/site-packages (from requests->transformers) (3.4)\n",
      "Requirement already satisfied: urllib3<1.27,>=1.21.1 in /opt/conda/envs/tf_gpu_env/lib/python3.9/site-packages (from requests->transformers) (1.26.14)\n",
      "Requirement already satisfied: certifi>=2017.4.17 in /opt/conda/envs/tf_gpu_env/lib/python3.9/site-packages (from requests->transformers) (2022.12.7)\n"
     ]
    }
   ],
   "source": [
    "!pip install transformers --upgrade"
   ]
  },
  {
   "cell_type": "code",
   "execution_count": 29,
   "id": "8ca77e09",
   "metadata": {},
   "outputs": [
    {
     "name": "stdout",
     "output_type": "stream",
     "text": [
      "['CLOUDFRONT_DISTRIB_PREFIX', 'CONFIG_NAME', 'ContextManagers', 'DISABLE_TELEMETRY', 'DUMMY_INPUTS', 'DUMMY_MASK', 'DummyObject', 'ENV_VARS_TRUE_AND_AUTO_VALUES', 'ENV_VARS_TRUE_VALUES', 'EntryNotFoundError', 'ExplicitEnum', 'FEATURE_EXTRACTOR_NAME', 'FLAX_WEIGHTS_NAME', 'HF_MODULES_CACHE', 'HUGGINGFACE_CO_PREFIX', 'HUGGINGFACE_CO_RESOLVE_ENDPOINT', 'MODEL_CARD_NAME', 'MULTIPLE_CHOICE_DUMMY_INPUTS', 'ModelOutput', 'PYTORCH_PRETRAINED_BERT_CACHE', 'PYTORCH_TRANSFORMERS_CACHE', 'PaddingStrategy', 'PushToHubMixin', 'RepositoryNotFoundError', 'RevisionNotFoundError', 'S3_BUCKET_PREFIX', 'SENTENCEPIECE_UNDERLINE', 'SPIECE_UNDERLINE', 'TF2_WEIGHTS_NAME', 'TF_WEIGHTS_NAME', 'TORCH_FX_REQUIRED_VERSION', 'TRANSFORMERS_CACHE', 'TRANSFORMERS_DYNAMIC_MODULE_NAME', 'TensorType', 'USE_JAX', 'USE_TF', 'USE_TORCH', 'WEIGHTS_INDEX_NAME', 'WEIGHTS_NAME', '_LazyModule', '__builtins__', '__cached__', '__doc__', '__file__', '__loader__', '__name__', '__package__', '__spec__', '__version__', 'add_code_sample_docstrings', 'add_end_docstrings', 'add_start_docstrings', 'add_start_docstrings_to_model_forward', 'cached_property', 'copy_func', 'default_cache_path', 'define_sagemaker_information', 'get_cached_models', 'get_file_from_repo', 'get_full_repo_name', 'get_torch_version', 'has_file', 'http_user_agent', 'is_apex_available', 'is_bs4_available', 'is_coloredlogs_available', 'is_datasets_available', 'is_detectron2_available', 'is_faiss_available', 'is_flax_available', 'is_ftfy_available', 'is_in_notebook', 'is_ipex_available', 'is_librosa_available', 'is_offline_mode', 'is_onnx_available', 'is_pandas_available', 'is_phonemizer_available', 'is_protobuf_available', 'is_psutil_available', 'is_py3nvml_available', 'is_pyctcdecode_available', 'is_pytesseract_available', 'is_pytorch_quantization_available', 'is_rjieba_available', 'is_sagemaker_dp_enabled', 'is_sagemaker_mp_enabled', 'is_scipy_available', 'is_sentencepiece_available', 'is_seqio_available', 'is_sklearn_available', 'is_soundfile_availble', 'is_spacy_available', 'is_speech_available', 'is_tensor', 'is_tensorflow_probability_available', 'is_tf2onnx_available', 'is_tf_available', 'is_timm_available', 'is_tokenizers_available', 'is_torch_available', 'is_torch_bf16_available', 'is_torch_cuda_available', 'is_torch_fx_available', 'is_torch_fx_proxy', 'is_torch_mps_available', 'is_torch_tf32_available', 'is_torch_tpu_available', 'is_torchaudio_available', 'is_training_run_on_sagemaker', 'is_vision_available', 'replace_return_docstrings', 'requires_backends', 'to_numpy', 'to_py_obj', 'torch_only_method']\n"
     ]
    }
   ],
   "source": [
    "import transformers.file_utils\n",
    "print(dir(transformers.file_utils))"
   ]
  },
  {
   "cell_type": "code",
   "execution_count": null,
   "id": "2c6f9254",
   "metadata": {},
   "outputs": [],
   "source": []
  }
 ],
 "metadata": {
  "kernelspec": {
   "display_name": "tf_gpu_env",
   "language": "python",
   "name": "tf_gpu_env"
  },
  "language_info": {
   "codemirror_mode": {
    "name": "ipython",
    "version": 3
   },
   "file_extension": ".py",
   "mimetype": "text/x-python",
   "name": "python",
   "nbconvert_exporter": "python",
   "pygments_lexer": "ipython3",
   "version": "3.9.0"
  }
 },
 "nbformat": 4,
 "nbformat_minor": 5
}
