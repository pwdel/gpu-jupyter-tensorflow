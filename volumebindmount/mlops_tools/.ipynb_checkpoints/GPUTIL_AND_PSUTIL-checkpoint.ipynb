{
 "cells": [
  {
   "cell_type": "code",
   "execution_count": 4,
   "id": "2358729c",
   "metadata": {},
   "outputs": [
    {
     "name": "stdout",
     "output_type": "stream",
     "text": [
      "Collecting package metadata (current_repodata.json): \\ WARNING conda.models.version:get_matcher(537): Using .* with relational operator is superfluous and deprecated and will be removed in a future version of conda. Your spec was 1.7.1.*, but conda is ignoring the .* and treating it as 1.7.1\n",
      "done\n",
      "Solving environment: done\n",
      "\n",
      "\n",
      "==> WARNING: A newer version of conda exists. <==\n",
      "  current version: 4.10.1\n",
      "  latest version: 23.11.0\n",
      "\n",
      "Please update conda by running\n",
      "\n",
      "    $ conda update -n base conda\n",
      "\n",
      "\n",
      "\n",
      "## Package Plan ##\n",
      "\n",
      "  environment location: /opt/conda/envs/tf_gpu_env\n",
      "\n",
      "  added / updated specs:\n",
      "    - gputil\n",
      "\n",
      "\n",
      "The following packages will be downloaded:\n",
      "\n",
      "    package                    |            build\n",
      "    ---------------------------|-----------------\n",
      "    gputil-1.4.0               |     pyh9f0ad1d_0          10 KB  conda-forge\n",
      "    ------------------------------------------------------------\n",
      "                                           Total:          10 KB\n",
      "\n",
      "The following NEW packages will be INSTALLED:\n",
      "\n",
      "  gputil             conda-forge/noarch::gputil-1.4.0-pyh9f0ad1d_0\n",
      "\n",
      "\n",
      "\n",
      "Downloading and Extracting Packages\n",
      "gputil-1.4.0         | 10 KB     | ##################################### | 100% \n",
      "Preparing transaction: done\n",
      "Verifying transaction: done\n",
      "Executing transaction: done\n"
     ]
    }
   ],
   "source": [
    "!conda install -y gputil"
   ]
  },
  {
   "cell_type": "code",
   "execution_count": 5,
   "id": "50f85c6f",
   "metadata": {},
   "outputs": [
    {
     "name": "stdout",
     "output_type": "stream",
     "text": [
      "Collecting package metadata (current_repodata.json): | WARNING conda.models.version:get_matcher(537): Using .* with relational operator is superfluous and deprecated and will be removed in a future version of conda. Your spec was 1.7.1.*, but conda is ignoring the .* and treating it as 1.7.1\n",
      "done\n",
      "Solving environment: done\n",
      "\n",
      "\n",
      "==> WARNING: A newer version of conda exists. <==\n",
      "  current version: 4.10.1\n",
      "  latest version: 23.11.0\n",
      "\n",
      "Please update conda by running\n",
      "\n",
      "    $ conda update -n base conda\n",
      "\n",
      "\n",
      "\n",
      "## Package Plan ##\n",
      "\n",
      "  environment location: /opt/conda/envs/tf_gpu_env\n",
      "\n",
      "  added / updated specs:\n",
      "    - psutil\n",
      "\n",
      "\n",
      "The following packages will be downloaded:\n",
      "\n",
      "    package                    |            build\n",
      "    ---------------------------|-----------------\n",
      "    psutil-5.9.7               |   py39hd1e30aa_0         354 KB  conda-forge\n",
      "    ------------------------------------------------------------\n",
      "                                           Total:         354 KB\n",
      "\n",
      "The following packages will be UPDATED:\n",
      "\n",
      "  psutil              anaconda::psutil-5.9.0-py39h5eee18b_0 --> conda-forge::psutil-5.9.7-py39hd1e30aa_0\n",
      "\n",
      "\n",
      "\n",
      "Downloading and Extracting Packages\n",
      "psutil-5.9.7         | 354 KB    | ##################################### | 100% \n",
      "Preparing transaction: done\n",
      "Verifying transaction: done\n",
      "Executing transaction: done\n",
      "\n",
      "Note: you may need to restart the kernel to use updated packages.\n"
     ]
    }
   ],
   "source": [
    "conda install -y psutil"
   ]
  },
  {
   "cell_type": "code",
   "execution_count": 6,
   "id": "f8724571",
   "metadata": {},
   "outputs": [
    {
     "name": "stdout",
     "output_type": "stream",
     "text": [
      "GPU: NVIDIA GeForce GTX 1070\n",
      "GPU Load: 0.0%\n",
      "GPU Memory Free: 27.0MB\n",
      "GPU Memory Used: 8080.0MB\n",
      "GPU Memory Total: 8192.0MB\n",
      "GPU Temperature: 31.0 °C\n",
      "----------------------------------------\n"
     ]
    }
   ],
   "source": [
    "import GPUtil\n",
    "\n",
    "gpus = GPUtil.getGPUs()\n",
    "for gpu in gpus:\n",
    "    print(f\"GPU: {gpu.name}\")\n",
    "    print(f\"GPU Load: {gpu.load * 100}%\")\n",
    "    print(f\"GPU Memory Free: {gpu.memoryFree}MB\")\n",
    "    print(f\"GPU Memory Used: {gpu.memoryUsed}MB\")\n",
    "    print(f\"GPU Memory Total: {gpu.memoryTotal}MB\")\n",
    "    print(f\"GPU Temperature: {gpu.temperature} °C\")\n",
    "    print(\"-\" * 40)"
   ]
  },
  {
   "cell_type": "code",
   "execution_count": null,
   "id": "ee8a9173",
   "metadata": {},
   "outputs": [],
   "source": []
  }
 ],
 "metadata": {
  "kernelspec": {
   "display_name": "tf_gpu_env",
   "language": "python",
   "name": "tf_gpu_env"
  },
  "language_info": {
   "codemirror_mode": {
    "name": "ipython",
    "version": 3
   },
   "file_extension": ".py",
   "mimetype": "text/x-python",
   "name": "python",
   "nbconvert_exporter": "python",
   "pygments_lexer": "ipython3",
   "version": "3.9.0"
  }
 },
 "nbformat": 4,
 "nbformat_minor": 5
}
