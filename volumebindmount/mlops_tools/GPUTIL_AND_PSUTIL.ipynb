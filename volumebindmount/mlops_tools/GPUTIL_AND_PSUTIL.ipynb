{
 "cells": [
  {
   "cell_type": "code",
   "execution_count": 4,
   "id": "2848cf90",
   "metadata": {},
   "outputs": [
    {
     "name": "stdout",
     "output_type": "stream",
     "text": [
      "Collecting package metadata (current_repodata.json): \\ WARNING conda.models.version:get_matcher(537): Using .* with relational operator is superfluous and deprecated and will be removed in a future version of conda. Your spec was 1.7.1.*, but conda is ignoring the .* and treating it as 1.7.1\n",
      "done\n",
      "Solving environment: done\n",
      "\n",
      "\n",
      "==> WARNING: A newer version of conda exists. <==\n",
      "  current version: 4.10.1\n",
      "  latest version: 23.11.0\n",
      "\n",
      "Please update conda by running\n",
      "\n",
      "    $ conda update -n base conda\n",
      "\n",
      "\n",
      "\n",
      "## Package Plan ##\n",
      "\n",
      "  environment location: /opt/conda/envs/tf_gpu_env\n",
      "\n",
      "  added / updated specs:\n",
      "    - gputil\n",
      "\n",
      "\n",
      "The following packages will be downloaded:\n",
      "\n",
      "    package                    |            build\n",
      "    ---------------------------|-----------------\n",
      "    gputil-1.4.0               |     pyh9f0ad1d_0          10 KB  conda-forge\n",
      "    ------------------------------------------------------------\n",
      "                                           Total:          10 KB\n",
      "\n",
      "The following NEW packages will be INSTALLED:\n",
      "\n",
      "  gputil             conda-forge/noarch::gputil-1.4.0-pyh9f0ad1d_0\n",
      "\n",
      "\n",
      "\n",
      "Downloading and Extracting Packages\n",
      "gputil-1.4.0         | 10 KB     | ##################################### | 100% \n",
      "Preparing transaction: done\n",
      "Verifying transaction: done\n",
      "Executing transaction: done\n"
     ]
    }
   ],
   "source": [
    "!conda install -y gputil"
   ]
  },
  {
   "cell_type": "code",
   "execution_count": 5,
   "id": "4e4f0ef6",
   "metadata": {},
   "outputs": [
    {
     "name": "stdout",
     "output_type": "stream",
     "text": [
      "Collecting package metadata (current_repodata.json): | WARNING conda.models.version:get_matcher(537): Using .* with relational operator is superfluous and deprecated and will be removed in a future version of conda. Your spec was 1.7.1.*, but conda is ignoring the .* and treating it as 1.7.1\n",
      "done\n",
      "Solving environment: done\n",
      "\n",
      "\n",
      "==> WARNING: A newer version of conda exists. <==\n",
      "  current version: 4.10.1\n",
      "  latest version: 23.11.0\n",
      "\n",
      "Please update conda by running\n",
      "\n",
      "    $ conda update -n base conda\n",
      "\n",
      "\n",
      "\n",
      "## Package Plan ##\n",
      "\n",
      "  environment location: /opt/conda/envs/tf_gpu_env\n",
      "\n",
      "  added / updated specs:\n",
      "    - psutil\n",
      "\n",
      "\n",
      "The following packages will be downloaded:\n",
      "\n",
      "    package                    |            build\n",
      "    ---------------------------|-----------------\n",
      "    psutil-5.9.7               |   py39hd1e30aa_0         354 KB  conda-forge\n",
      "    ------------------------------------------------------------\n",
      "                                           Total:         354 KB\n",
      "\n",
      "The following packages will be UPDATED:\n",
      "\n",
      "  psutil              anaconda::psutil-5.9.0-py39h5eee18b_0 --> conda-forge::psutil-5.9.7-py39hd1e30aa_0\n",
      "\n",
      "\n",
      "\n",
      "Downloading and Extracting Packages\n",
      "psutil-5.9.7         | 354 KB    | ##################################### | 100% \n",
      "Preparing transaction: done\n",
      "Verifying transaction: done\n",
      "Executing transaction: done\n",
      "\n",
      "Note: you may need to restart the kernel to use updated packages.\n"
     ]
    }
   ],
   "source": [
    "conda install -y psutil"
   ]
  },
  {
   "cell_type": "code",
   "execution_count": 6,
   "id": "ca4ebc7c",
   "metadata": {},
   "outputs": [
    {
     "name": "stdout",
     "output_type": "stream",
     "text": [
      "GPU: NVIDIA GeForce GTX 1070\n",
      "GPU Load: 0.0%\n",
      "GPU Memory Free: 27.0MB\n",
      "GPU Memory Used: 8080.0MB\n",
      "GPU Memory Total: 8192.0MB\n",
      "GPU Temperature: 31.0 °C\n",
      "----------------------------------------\n"
     ]
    }
   ],
   "source": [
    "import GPUtil\n",
    "\n",
    "gpus = GPUtil.getGPUs()\n",
    "for gpu in gpus:\n",
    "    print(f\"GPU: {gpu.name}\")\n",
    "    print(f\"GPU Load: {gpu.load * 100}%\")\n",
    "    print(f\"GPU Memory Free: {gpu.memoryFree}MB\")\n",
    "    print(f\"GPU Memory Used: {gpu.memoryUsed}MB\")\n",
    "    print(f\"GPU Memory Total: {gpu.memoryTotal}MB\")\n",
    "    print(f\"GPU Temperature: {gpu.temperature} °C\")\n",
    "    print(\"-\" * 40)"
   ]
  },
  {
   "cell_type": "code",
   "execution_count": 7,
   "id": "f942cff4",
   "metadata": {},
   "outputs": [
    {
     "name": "stdout",
     "output_type": "stream",
     "text": [
      "{'pid': 1, 'name': 'conda', 'memory_info': pmem(rss=7720960, vms=31166464, shared=7077888, text=2355200, lib=0, data=17940480, dirty=0)}\n",
      "{'pid': 7, 'name': 'bash', 'memory_info': pmem(rss=3276800, vms=7680000, shared=3276800, text=913408, lib=0, data=581632, dirty=0)}\n",
      "{'pid': 17, 'name': 'bash', 'memory_info': pmem(rss=3407872, vms=7544832, shared=3276800, text=913408, lib=0, data=446464, dirty=0)}\n",
      "{'pid': 20, 'name': 'conda_jupyterla', 'memory_info': pmem(rss=3407872, vms=7544832, shared=3276800, text=913408, lib=0, data=446464, dirty=0)}\n",
      "{'pid': 34, 'name': 'jupyter-lab', 'memory_info': pmem(rss=41963520, vms=637595648, shared=17039360, text=2355200, lib=0, data=147251200, dirty=0)}\n",
      "{'pid': 42, 'name': 'python', 'memory_info': pmem(rss=16785408, vms=766574592, shared=15204352, text=2355200, lib=0, data=140623872, dirty=0)}\n",
      "{'pid': 77, 'name': 'python', 'memory_info': pmem(rss=16572416, vms=766574592, shared=15204352, text=2355200, lib=0, data=140410880, dirty=0)}\n",
      "{'pid': 110, 'name': 'bash', 'memory_info': pmem(rss=3801088, vms=7917568, shared=3670016, text=913408, lib=0, data=819200, dirty=0)}\n",
      "{'pid': 165, 'name': 'python', 'memory_info': pmem(rss=97677312, vms=4770369536, shared=95027200, text=2355200, lib=0, data=1546379264, dirty=0)}\n",
      "{'pid': 181, 'name': 'python', 'memory_info': pmem(rss=16838656, vms=766574592, shared=15204352, text=2355200, lib=0, data=140357632, dirty=0)}\n",
      "{'pid': 228, 'name': 'python', 'memory_info': pmem(rss=24178688, vms=766570496, shared=15466496, text=2355200, lib=0, data=140488704, dirty=0)}\n",
      "{'pid': 276, 'name': 'python', 'memory_info': pmem(rss=215003136, vms=19701383168, shared=212467712, text=2355200, lib=0, data=1622781952, dirty=0)}\n",
      "{'pid': 311, 'name': 'python', 'memory_info': pmem(rss=23785472, vms=766570496, shared=15073280, text=2355200, lib=0, data=140578816, dirty=0)}\n",
      "{'pid': 332, 'name': 'python', 'memory_info': pmem(rss=16969728, vms=766570496, shared=15335424, text=2355200, lib=0, data=140484608, dirty=0)}\n",
      "{'pid': 348, 'name': 'python', 'memory_info': pmem(rss=16707584, vms=766570496, shared=15204352, text=2355200, lib=0, data=140218368, dirty=0)}\n",
      "{'pid': 364, 'name': 'python', 'memory_info': pmem(rss=16838656, vms=766570496, shared=15466496, text=2355200, lib=0, data=140218368, dirty=0)}\n",
      "{'pid': 414, 'name': 'bash', 'memory_info': pmem(rss=3538944, vms=7917568, shared=3538944, text=913408, lib=0, data=819200, dirty=0)}\n",
      "{'pid': 4518, 'name': 'bash', 'memory_info': pmem(rss=3670016, vms=7917568, shared=3670016, text=913408, lib=0, data=819200, dirty=0)}\n",
      "{'pid': 5626, 'name': 'python', 'memory_info': pmem(rss=13764923392, vms=31925444608, shared=276955136, text=2355200, lib=0, data=15960145920, dirty=0)}\n",
      "{'pid': 5664, 'name': 'python', 'memory_info': pmem(rss=61964288, vms=766586880, shared=15204352, text=2355200, lib=0, data=140300288, dirty=0)}\n",
      "{'pid': 5680, 'name': 'python', 'memory_info': pmem(rss=65466368, vms=769691648, shared=15335424, text=2355200, lib=0, data=143441920, dirty=0)}\n"
     ]
    }
   ],
   "source": [
    "import psutil\n",
    "\n",
    "for proc in psutil.process_iter(['pid', 'name', 'memory_info']):\n",
    "    print(proc.info)"
   ]
  },
  {
   "cell_type": "markdown",
   "id": "4253743c",
   "metadata": {},
   "source": [
    "### nvidia-smi \n",
    "\n",
    "* The output of nvidia-smi on the terminal is:\n",
    "\n",
    "```\n",
    "nvidia-smi\n",
    "Sat Jan 20 19:00:16 2024\n",
    "+---------------------------------------------------------------------------------------+\n",
    "| NVIDIA-SMI 535.146.02             Driver Version: 535.146.02   CUDA Version: 12.2     |\n",
    "|-----------------------------------------+----------------------+----------------------+\n",
    "| GPU  Name                 Persistence-M | Bus-Id        Disp.A | Volatile Uncorr. ECC |\n",
    "| Fan  Temp   Perf          Pwr:Usage/Cap |         Memory-Usage | GPU-Util  Compute M. |\n",
    "|                                         |                      |               MIG M. |\n",
    "|=========================================+======================+======================|\n",
    "|   0  NVIDIA GeForce GTX 1070        Off | 00000000:01:00.0 Off |                  N/A |\n",
    "| 27%   31C    P8               5W / 151W |   8080MiB /  8192MiB |      0%      Default |\n",
    "|                                         |                      |                  N/A |\n",
    "+-----------------------------------------+----------------------+----------------------+\n",
    "\n",
    "+---------------------------------------------------------------------------------------+\n",
    "| Processes:                                                                            |\n",
    "|  GPU   GI   CI        PID   Type   Process name                            GPU Memory |\n",
    "|        ID   ID                                                             Usage      |\n",
    "|=======================================================================================|\n",
    "|    0   N/A  N/A      1037      G   /usr/lib/xorg/Xorg                            9MiB |\n",
    "|    0   N/A  N/A      1243      G   /usr/bin/gnome-shell                          3MiB |\n",
    "|    0   N/A  N/A      7914      C   /opt/conda/envs/tf_gpu_env/bin/python      5088MiB |\n",
    "|    0   N/A  N/A     25839      C   /opt/conda/envs/tf_gpu_env/bin/python      2974MiB |\n",
    "+---------------------------------------------------------------------------------------+\n",
    "```"
   ]
  },
  {
   "cell_type": "code",
   "execution_count": 8,
   "id": "cd3f68a4",
   "metadata": {},
   "outputs": [
    {
     "name": "stdout",
     "output_type": "stream",
     "text": [
      "Process with PID 1037 not found.\n",
      "Process with PID 1243 not found.\n",
      "Process with PID 7914 not found.\n",
      "Process with PID 25839 not found.\n"
     ]
    }
   ],
   "source": [
    "import psutil\n",
    "\n",
    "# List of PIDs to investigate (from your nvidia-smi output)\n",
    "pids_to_investigate = [1037, 1243, 7914, 25839]\n",
    "\n",
    "for pid in pids_to_investigate:\n",
    "    try:\n",
    "        process = psutil.Process(pid)\n",
    "        print(f\"PID: {pid}\")\n",
    "        print(f\"Name: {process.name()}\")\n",
    "        print(f\"Executable: {process.exe()}\")\n",
    "        print(f\"Command Line: {process.cmdline()}\")\n",
    "        print(f\"Memory Info: {process.memory_info()}\")\n",
    "        print(\"-\" * 40)\n",
    "    except psutil.NoSuchProcess:\n",
    "        print(f\"Process with PID {pid} not found.\")"
   ]
  },
  {
   "cell_type": "markdown",
   "id": "40ca98b5",
   "metadata": {},
   "source": [
    "### Use Terminal to Identify Tasks\n",
    "\n",
    "* If we use the ps command on terminal, we get:\n",
    "\n",
    "```\n",
    "patrick@hpomen:~/Documents/gpu-jupyter-tensorflow$ ps 7914\n",
    "    PID TTY      STAT   TIME COMMAND\n",
    "   7914 ?        Ssl    6:46 /opt/conda/envs/tf_gpu_env/bin/python -m ipykernel_launcher -f /home/jovyan/.local/share/jupyter/runtime/kernel-c44cb665-0212-49e7-912b-92e80ec99262.json\n",
    "\n",
    "patrick@hpomen:~/Documents/gpu-jupyter-tensorflow$ ps 25839\n",
    "    PID TTY      STAT   TIME COMMAND\n",
    "  25839 ?        Ssl    2:20 /opt/conda/envs/tf_gpu_env/bin/python -m ipykernel_launcher -f /home/jovyan/.local/share/jupyter/runtime/kernel-ace0f66f-d35b-435c-b241-bebd8c00f66e.json\n",
    "```\n",
    "\n"
   ]
  },
  {
   "cell_type": "code",
   "execution_count": null,
   "id": "5356d22e",
   "metadata": {},
   "outputs": [],
   "source": []
  }
 ],
 "metadata": {
  "kernelspec": {
   "display_name": "tf_gpu_env",
   "language": "python",
   "name": "tf_gpu_env"
  },
  "language_info": {
   "codemirror_mode": {
    "name": "ipython",
    "version": 3
   },
   "file_extension": ".py",
   "mimetype": "text/x-python",
   "name": "python",
   "nbconvert_exporter": "python",
   "pygments_lexer": "ipython3",
   "version": "3.9.0"
  }
 },
 "nbformat": 4,
 "nbformat_minor": 5
}
