{
 "cells": [
  {
   "cell_type": "code",
   "execution_count": 1,
   "id": "15575d11",
   "metadata": {},
   "outputs": [
    {
     "name": "stderr",
     "output_type": "stream",
     "text": [
      "2023-09-08 20:47:10.179531: I tensorflow/stream_executor/platform/default/dso_loader.cc:49] Successfully opened dynamic library libcudart.so.10.1\n"
     ]
    }
   ],
   "source": [
    "import tensorflow as tf"
   ]
  },
  {
   "cell_type": "code",
   "execution_count": 3,
   "id": "6f2e72b5",
   "metadata": {},
   "outputs": [
    {
     "name": "stdout",
     "output_type": "stream",
     "text": [
      "API response:\n",
      "{'ubbets_count': 94712}\n"
     ]
    }
   ],
   "source": [
    "import requests\n",
    "\n",
    "# Define the API URL\n",
    "api_url = \"http://192.168.0.201:4000/api/v0/ubbets/totalcount/\"\n",
    "\n",
    "# Make the API request\n",
    "response = requests.get(api_url)\n",
    "\n",
    "# Check if the request was successful (status code 200)\n",
    "if response.status_code == 200:\n",
    "    # Parse the JSON response into a dictionary\n",
    "    data = response.json()\n",
    "    print(\"API response:\")\n",
    "    print(data)\n",
    "else:\n",
    "    print(f\"API request failed with status code {response.status_code}\")"
   ]
  },
  {
   "cell_type": "code",
   "execution_count": 5,
   "id": "649c5427",
   "metadata": {},
   "outputs": [],
   "source": [
    "import requests\n",
    "\n",
    "# Define the API URL\n",
    "api_url = \"http://192.168.0.201:4000/api/v0/ubbets/details/\"\n",
    "\n",
    "# Make the API request\n",
    "response = requests.get(api_url)\n",
    "\n",
    "# Check if the request was successful (status code 200)\n",
    "if response.status_code == 200:\n",
    "    # Parse the JSON response into a dictionary\n",
    "    data = response.json()\n",
    "else:\n",
    "    print(f\"API request failed with status code {response.status_code}\")"
   ]
  },
  {
   "cell_type": "code",
   "execution_count": 24,
   "id": "5b507bb8",
   "metadata": {},
   "outputs": [
    {
     "name": "stdout",
     "output_type": "stream",
     "text": [
      "232 bytes\n"
     ]
    }
   ],
   "source": [
    "import sys\n",
    "# Calculate the size of the 'data' dictionary in bytes\n",
    "print(sys.getsizeof(data), \"bytes\")"
   ]
  },
  {
   "cell_type": "code",
   "execution_count": 15,
   "id": "0b937501",
   "metadata": {},
   "outputs": [
    {
     "data": {
      "text/plain": [
       "ubbets    [m8Ept5t7cpuUuRcyhudt, YwtpmFHqEZuUiIKtXyFN, -...\n",
       "Name: 0, dtype: object"
      ]
     },
     "execution_count": 15,
     "metadata": {},
     "output_type": "execute_result"
    }
   ],
   "source": [
    "import pandas as pd\n",
    "\n",
    "# Convert the dictionary to a Pandas DataFrame\n",
    "df = pd.DataFrame.from_dict(data)\n",
    "\n",
    "df.iloc[0]"
   ]
  },
  {
   "cell_type": "code",
   "execution_count": 22,
   "id": "b41f0857",
   "metadata": {},
   "outputs": [
    {
     "data": {
      "text/html": [
       "<div>\n",
       "<style scoped>\n",
       "    .dataframe tbody tr th:only-of-type {\n",
       "        vertical-align: middle;\n",
       "    }\n",
       "\n",
       "    .dataframe tbody tr th {\n",
       "        vertical-align: top;\n",
       "    }\n",
       "\n",
       "    .dataframe thead th {\n",
       "        text-align: right;\n",
       "    }\n",
       "</style>\n",
       "<table border=\"1\" class=\"dataframe\">\n",
       "  <thead>\n",
       "    <tr style=\"text-align: right;\">\n",
       "      <th></th>\n",
       "      <th>0</th>\n",
       "      <th>1</th>\n",
       "      <th>2</th>\n",
       "      <th>3</th>\n",
       "      <th>4</th>\n",
       "      <th>5</th>\n",
       "      <th>6</th>\n",
       "      <th>7</th>\n",
       "    </tr>\n",
       "  </thead>\n",
       "  <tbody>\n",
       "    <tr>\n",
       "      <th>0</th>\n",
       "      <td>m8Ept5t7cpuUuRcyhudt</td>\n",
       "      <td>YwtpmFHqEZuUiIKtXyFN</td>\n",
       "      <td>-74.003625</td>\n",
       "      <td>1693135602227</td>\n",
       "      <td>[{'amount': -74.00362467398847, 'isSale': True...</td>\n",
       "      <td>YES</td>\n",
       "      <td>5JTjLRLqurS67gwM9RDIIggfzBz1</td>\n",
       "      <td>None</td>\n",
       "    </tr>\n",
       "    <tr>\n",
       "      <th>1</th>\n",
       "      <td>ejODbxrzgZ3Iqtj6zFAH</td>\n",
       "      <td>yOLdeZ0n3AttIJ0wCQE1</td>\n",
       "      <td>35.000000</td>\n",
       "      <td>1692184973366</td>\n",
       "      <td>[{'amount': 19.169853923684464, 'matchedBetId'...</td>\n",
       "      <td>NO</td>\n",
       "      <td>AA10TMBdN9ZxXOP7pRECfuzhqMW2</td>\n",
       "      <td>None</td>\n",
       "    </tr>\n",
       "    <tr>\n",
       "      <th>2</th>\n",
       "      <td>Tg0gF61b8p2X8IdVufRG</td>\n",
       "      <td>lbmIuDpuJhBLjFoCphJt</td>\n",
       "      <td>100.000000</td>\n",
       "      <td>1692283495374</td>\n",
       "      <td>[{'amount': 100, 'matchedBetId': None, 'shares...</td>\n",
       "      <td>NO</td>\n",
       "      <td>BhNkw088bMNwIFF2Aq5Gg9NTPzz1</td>\n",
       "      <td>None</td>\n",
       "    </tr>\n",
       "    <tr>\n",
       "      <th>3</th>\n",
       "      <td>y8E5WqkIHkpWXyS561v0</td>\n",
       "      <td>U03M56KRCKzXfmB3CuC0</td>\n",
       "      <td>10.000000</td>\n",
       "      <td>1693312921576</td>\n",
       "      <td>[{'amount': 10, 'matchedBetId': None, 'shares'...</td>\n",
       "      <td>NO</td>\n",
       "      <td>kB8B9wkkCeRj0a3rvri2ZzZxhpN2</td>\n",
       "      <td>None</td>\n",
       "    </tr>\n",
       "    <tr>\n",
       "      <th>4</th>\n",
       "      <td>6LzyyDtI7hgb2ALilJLb</td>\n",
       "      <td>kIl20PfgaUtyCKCDsSeI</td>\n",
       "      <td>3.540660</td>\n",
       "      <td>1693472867387</td>\n",
       "      <td>[{'amount': 3.5406598716457145, 'matchedBetId'...</td>\n",
       "      <td>YES</td>\n",
       "      <td>BhNkw088bMNwIFF2Aq5Gg9NTPzz1</td>\n",
       "      <td>None</td>\n",
       "    </tr>\n",
       "  </tbody>\n",
       "</table>\n",
       "</div>"
      ],
      "text/plain": [
       "                      0                     1           2              3  \\\n",
       "0  m8Ept5t7cpuUuRcyhudt  YwtpmFHqEZuUiIKtXyFN  -74.003625  1693135602227   \n",
       "1  ejODbxrzgZ3Iqtj6zFAH  yOLdeZ0n3AttIJ0wCQE1   35.000000  1692184973366   \n",
       "2  Tg0gF61b8p2X8IdVufRG  lbmIuDpuJhBLjFoCphJt  100.000000  1692283495374   \n",
       "3  y8E5WqkIHkpWXyS561v0  U03M56KRCKzXfmB3CuC0   10.000000  1693312921576   \n",
       "4  6LzyyDtI7hgb2ALilJLb  kIl20PfgaUtyCKCDsSeI    3.540660  1693472867387   \n",
       "\n",
       "                                                   4    5  \\\n",
       "0  [{'amount': -74.00362467398847, 'isSale': True...  YES   \n",
       "1  [{'amount': 19.169853923684464, 'matchedBetId'...   NO   \n",
       "2  [{'amount': 100, 'matchedBetId': None, 'shares...   NO   \n",
       "3  [{'amount': 10, 'matchedBetId': None, 'shares'...   NO   \n",
       "4  [{'amount': 3.5406598716457145, 'matchedBetId'...  YES   \n",
       "\n",
       "                              6     7  \n",
       "0  5JTjLRLqurS67gwM9RDIIggfzBz1  None  \n",
       "1  AA10TMBdN9ZxXOP7pRECfuzhqMW2  None  \n",
       "2  BhNkw088bMNwIFF2Aq5Gg9NTPzz1  None  \n",
       "3  kB8B9wkkCeRj0a3rvri2ZzZxhpN2  None  \n",
       "4  BhNkw088bMNwIFF2Aq5Gg9NTPzz1  None  "
      ]
     },
     "execution_count": 22,
     "metadata": {},
     "output_type": "execute_result"
    }
   ],
   "source": [
    "# Convert the list of entries to a Pandas DataFrame\n",
    "df = pd.DataFrame(data['ubbets'])\n",
    "\n",
    "df.head()"
   ]
  },
  {
   "cell_type": "code",
   "execution_count": 25,
   "id": "c71a5d34",
   "metadata": {},
   "outputs": [
    {
     "name": "stdout",
     "output_type": "stream",
     "text": [
      "API response:\n",
      "{'ubbets_headers': ['market_id', 'bet_id', 'amount', 'created_time', 'fills', 'outcome', 'user_id', 'original_inserted_at']}\n"
     ]
    }
   ],
   "source": [
    "import requests\n",
    "\n",
    "# Define the API URL\n",
    "api_url = \"http://192.168.0.201:4000/api/v0/ubbets/headers/\"\n",
    "\n",
    "# Make the API request\n",
    "response = requests.get(api_url)\n",
    "\n",
    "# Check if the request was successful (status code 200)\n",
    "if response.status_code == 200:\n",
    "    # Parse the JSON response into a dictionary\n",
    "    data = response.json()\n",
    "    print(\"API response:\")\n",
    "    print(data)\n",
    "else:\n",
    "    print(f\"API request failed with status code {response.status_code}\")"
   ]
  },
  {
   "cell_type": "code",
   "execution_count": 32,
   "id": "4d572d6d",
   "metadata": {},
   "outputs": [
    {
     "data": {
      "text/html": [
       "<div>\n",
       "<style scoped>\n",
       "    .dataframe tbody tr th:only-of-type {\n",
       "        vertical-align: middle;\n",
       "    }\n",
       "\n",
       "    .dataframe tbody tr th {\n",
       "        vertical-align: top;\n",
       "    }\n",
       "\n",
       "    .dataframe thead th {\n",
       "        text-align: right;\n",
       "    }\n",
       "</style>\n",
       "<table border=\"1\" class=\"dataframe\">\n",
       "  <thead>\n",
       "    <tr style=\"text-align: right;\">\n",
       "      <th></th>\n",
       "      <th>market_id</th>\n",
       "      <th>bet_id</th>\n",
       "      <th>amount</th>\n",
       "      <th>created_time</th>\n",
       "      <th>fills</th>\n",
       "      <th>outcome</th>\n",
       "      <th>user_id</th>\n",
       "      <th>original_inserted_at</th>\n",
       "    </tr>\n",
       "  </thead>\n",
       "  <tbody>\n",
       "    <tr>\n",
       "      <th>0</th>\n",
       "      <td>m8Ept5t7cpuUuRcyhudt</td>\n",
       "      <td>YwtpmFHqEZuUiIKtXyFN</td>\n",
       "      <td>-74.003625</td>\n",
       "      <td>1693135602227</td>\n",
       "      <td>[{'amount': -74.00362467398847, 'isSale': True...</td>\n",
       "      <td>YES</td>\n",
       "      <td>5JTjLRLqurS67gwM9RDIIggfzBz1</td>\n",
       "      <td>None</td>\n",
       "    </tr>\n",
       "    <tr>\n",
       "      <th>1</th>\n",
       "      <td>ejODbxrzgZ3Iqtj6zFAH</td>\n",
       "      <td>yOLdeZ0n3AttIJ0wCQE1</td>\n",
       "      <td>35.000000</td>\n",
       "      <td>1692184973366</td>\n",
       "      <td>[{'amount': 19.169853923684464, 'matchedBetId'...</td>\n",
       "      <td>NO</td>\n",
       "      <td>AA10TMBdN9ZxXOP7pRECfuzhqMW2</td>\n",
       "      <td>None</td>\n",
       "    </tr>\n",
       "    <tr>\n",
       "      <th>2</th>\n",
       "      <td>Tg0gF61b8p2X8IdVufRG</td>\n",
       "      <td>lbmIuDpuJhBLjFoCphJt</td>\n",
       "      <td>100.000000</td>\n",
       "      <td>1692283495374</td>\n",
       "      <td>[{'amount': 100, 'matchedBetId': None, 'shares...</td>\n",
       "      <td>NO</td>\n",
       "      <td>BhNkw088bMNwIFF2Aq5Gg9NTPzz1</td>\n",
       "      <td>None</td>\n",
       "    </tr>\n",
       "    <tr>\n",
       "      <th>3</th>\n",
       "      <td>y8E5WqkIHkpWXyS561v0</td>\n",
       "      <td>U03M56KRCKzXfmB3CuC0</td>\n",
       "      <td>10.000000</td>\n",
       "      <td>1693312921576</td>\n",
       "      <td>[{'amount': 10, 'matchedBetId': None, 'shares'...</td>\n",
       "      <td>NO</td>\n",
       "      <td>kB8B9wkkCeRj0a3rvri2ZzZxhpN2</td>\n",
       "      <td>None</td>\n",
       "    </tr>\n",
       "    <tr>\n",
       "      <th>4</th>\n",
       "      <td>6LzyyDtI7hgb2ALilJLb</td>\n",
       "      <td>kIl20PfgaUtyCKCDsSeI</td>\n",
       "      <td>3.540660</td>\n",
       "      <td>1693472867387</td>\n",
       "      <td>[{'amount': 3.5406598716457145, 'matchedBetId'...</td>\n",
       "      <td>YES</td>\n",
       "      <td>BhNkw088bMNwIFF2Aq5Gg9NTPzz1</td>\n",
       "      <td>None</td>\n",
       "    </tr>\n",
       "  </tbody>\n",
       "</table>\n",
       "</div>"
      ],
      "text/plain": [
       "              market_id                bet_id      amount   created_time  \\\n",
       "0  m8Ept5t7cpuUuRcyhudt  YwtpmFHqEZuUiIKtXyFN  -74.003625  1693135602227   \n",
       "1  ejODbxrzgZ3Iqtj6zFAH  yOLdeZ0n3AttIJ0wCQE1   35.000000  1692184973366   \n",
       "2  Tg0gF61b8p2X8IdVufRG  lbmIuDpuJhBLjFoCphJt  100.000000  1692283495374   \n",
       "3  y8E5WqkIHkpWXyS561v0  U03M56KRCKzXfmB3CuC0   10.000000  1693312921576   \n",
       "4  6LzyyDtI7hgb2ALilJLb  kIl20PfgaUtyCKCDsSeI    3.540660  1693472867387   \n",
       "\n",
       "                                               fills outcome  \\\n",
       "0  [{'amount': -74.00362467398847, 'isSale': True...     YES   \n",
       "1  [{'amount': 19.169853923684464, 'matchedBetId'...      NO   \n",
       "2  [{'amount': 100, 'matchedBetId': None, 'shares...      NO   \n",
       "3  [{'amount': 10, 'matchedBetId': None, 'shares'...      NO   \n",
       "4  [{'amount': 3.5406598716457145, 'matchedBetId'...     YES   \n",
       "\n",
       "                        user_id original_inserted_at  \n",
       "0  5JTjLRLqurS67gwM9RDIIggfzBz1                 None  \n",
       "1  AA10TMBdN9ZxXOP7pRECfuzhqMW2                 None  \n",
       "2  BhNkw088bMNwIFF2Aq5Gg9NTPzz1                 None  \n",
       "3  kB8B9wkkCeRj0a3rvri2ZzZxhpN2                 None  \n",
       "4  BhNkw088bMNwIFF2Aq5Gg9NTPzz1                 None  "
      ]
     },
     "execution_count": 32,
     "metadata": {},
     "output_type": "execute_result"
    }
   ],
   "source": [
    "headers = data['ubbets_headers']\n",
    "df.columns = headers\n",
    "df.head()"
   ]
  },
  {
   "cell_type": "code",
   "execution_count": 41,
   "id": "e24c7dcb",
   "metadata": {},
   "outputs": [
    {
     "data": {
      "image/png": "[encoded data removed]",
      "text/plain": [
       "<Figure size 1000x600 with 2 Axes>"
      ]
     },
     "metadata": {},
     "output_type": "display_data"
    }
   ],
   "source": [
    "import matplotlib.pyplot as plt\n",
    "\n",
    "# Convert created_time to a human-readable date\n",
    "df['created_time'] = pd.to_datetime(df['created_time'], unit='ms')\n",
    "\n",
    "# Separate the data into YES and NO bets\n",
    "yes_bets = df[df['outcome'] == 'YES']\n",
    "no_bets = df[df['outcome'] == 'NO']\n",
    "\n",
    "# Create subplots\n",
    "fig, (ax1, ax2) = plt.subplots(2, 1, figsize=(10, 6), sharex=True)\n",
    "\n",
    "# Plot YES bets\n",
    "ax1.plot(yes_bets['created_time'], yes_bets['amount'], 'go', label='YES Bets')\n",
    "ax1.set_ylabel('Amount')\n",
    "ax1.set_title('Bets Placed Over Time (YES Bets)')\n",
    "ax1.grid(True)\n",
    "ax1.legend()\n",
    "\n",
    "# Plot NO bets\n",
    "ax2.plot(no_bets['created_time'], -no_bets['amount'], 'ro', label='NO Bets')\n",
    "ax2.set_xlabel('Time')\n",
    "ax2.set_ylabel('Amount')\n",
    "ax2.set_title('Bets Placed Over Time (NO Bets)')\n",
    "ax2.grid(True)\n",
    "ax2.legend()\n",
    "\n",
    "# Show the plot\n",
    "plt.tight_layout()\n",
    "plt.show()"
   ]
  },
  {
   "cell_type": "code",
   "execution_count": 37,
   "id": "a6d1e0c4",
   "metadata": {},
   "outputs": [
    {
     "name": "stdout",
     "output_type": "stream",
     "text": [
      "Collecting matplotlib\n",
      "  Obtaining dependency information for matplotlib from https://files.pythonhosted.org/packages/47/b9/6c0daa9b953a80b4e6933bf6a11a2d0633f257e84ee5995c5fd35de564c9/matplotlib-3.7.2-cp39-cp39-manylinux_2_17_x86_64.manylinux2014_x86_64.whl.metadata\n",
      "  Using cached matplotlib-3.7.2-cp39-cp39-manylinux_2_17_x86_64.manylinux2014_x86_64.whl.metadata (5.6 kB)\n",
      "Collecting contourpy>=1.0.1 (from matplotlib)\n",
      "  Obtaining dependency information for contourpy>=1.0.1 from https://files.pythonhosted.org/packages/38/6f/5382bdff9dda60cb17cef6dfa2bad3e6edacffd5c2243e282e851c63f721/contourpy-1.1.0-cp39-cp39-manylinux_2_17_x86_64.manylinux2014_x86_64.whl.metadata\n",
      "  Using cached contourpy-1.1.0-cp39-cp39-manylinux_2_17_x86_64.manylinux2014_x86_64.whl.metadata (5.7 kB)\n",
      "Collecting cycler>=0.10 (from matplotlib)\n",
      "  Using cached cycler-0.11.0-py3-none-any.whl (6.4 kB)\n",
      "Collecting fonttools>=4.22.0 (from matplotlib)\n",
      "  Obtaining dependency information for fonttools>=4.22.0 from https://files.pythonhosted.org/packages/49/50/2e31753c088d364756daa5bed0dab6a5928ebfd6e6d26f975c8b6d6f754a/fonttools-4.42.1-cp39-cp39-manylinux_2_17_x86_64.manylinux2014_x86_64.whl.metadata\n",
      "  Using cached fonttools-4.42.1-cp39-cp39-manylinux_2_17_x86_64.manylinux2014_x86_64.whl.metadata (150 kB)\n",
      "Collecting kiwisolver>=1.0.1 (from matplotlib)\n",
      "  Obtaining dependency information for kiwisolver>=1.0.1 from https://files.pythonhosted.org/packages/c0/a8/841594f11d0b88d8aeb26991bc4dac38baa909dc58d0c4262a4f7893bcbf/kiwisolver-1.4.5-cp39-cp39-manylinux_2_12_x86_64.manylinux2010_x86_64.whl.metadata\n",
      "  Using cached kiwisolver-1.4.5-cp39-cp39-manylinux_2_12_x86_64.manylinux2010_x86_64.whl.metadata (6.4 kB)\n",
      "Requirement already satisfied: numpy>=1.20 in /opt/conda/envs/tf_gpu_env/lib/python3.9/site-packages (from matplotlib) (1.23.0)\n",
      "Requirement already satisfied: packaging>=20.0 in /opt/conda/envs/tf_gpu_env/lib/python3.9/site-packages (from matplotlib) (22.0)\n",
      "Collecting pillow>=6.2.0 (from matplotlib)\n",
      "  Obtaining dependency information for pillow>=6.2.0 from https://files.pythonhosted.org/packages/50/e5/0d484d1ac71b934638f91b7156203ba5bf3eb12f596b616a68a85c123808/Pillow-10.0.0-cp39-cp39-manylinux_2_28_x86_64.whl.metadata\n",
      "  Using cached Pillow-10.0.0-cp39-cp39-manylinux_2_28_x86_64.whl.metadata (9.5 kB)\n",
      "Collecting pyparsing<3.1,>=2.3.1 (from matplotlib)\n",
      "  Using cached pyparsing-3.0.9-py3-none-any.whl (98 kB)\n",
      "Requirement already satisfied: python-dateutil>=2.7 in /opt/conda/envs/tf_gpu_env/lib/python3.9/site-packages (from matplotlib) (2.8.2)\n",
      "Collecting importlib-resources>=3.2.0 (from matplotlib)\n",
      "  Obtaining dependency information for importlib-resources>=3.2.0 from https://files.pythonhosted.org/packages/25/d4/592f53ce2f8dde8be5720851bd0ab71cc2e76c55978e4163ef1ab7e389bb/importlib_resources-6.0.1-py3-none-any.whl.metadata\n",
      "  Using cached importlib_resources-6.0.1-py3-none-any.whl.metadata (4.0 kB)\n",
      "Requirement already satisfied: zipp>=3.1.0 in /opt/conda/envs/tf_gpu_env/lib/python3.9/site-packages (from importlib-resources>=3.2.0->matplotlib) (3.11.0)\n",
      "Requirement already satisfied: six>=1.5 in /opt/conda/envs/tf_gpu_env/lib/python3.9/site-packages (from python-dateutil>=2.7->matplotlib) (1.16.0)\n",
      "Using cached matplotlib-3.7.2-cp39-cp39-manylinux_2_17_x86_64.manylinux2014_x86_64.whl (11.6 MB)\n",
      "Using cached contourpy-1.1.0-cp39-cp39-manylinux_2_17_x86_64.manylinux2014_x86_64.whl (300 kB)\n",
      "Using cached fonttools-4.42.1-cp39-cp39-manylinux_2_17_x86_64.manylinux2014_x86_64.whl (4.5 MB)\n",
      "Using cached importlib_resources-6.0.1-py3-none-any.whl (34 kB)\n",
      "Using cached kiwisolver-1.4.5-cp39-cp39-manylinux_2_12_x86_64.manylinux2010_x86_64.whl (1.6 MB)\n",
      "Using cached Pillow-10.0.0-cp39-cp39-manylinux_2_28_x86_64.whl (3.4 MB)\n",
      "Installing collected packages: pyparsing, pillow, kiwisolver, importlib-resources, fonttools, cycler, contourpy, matplotlib\n",
      "Successfully installed contourpy-1.1.0 cycler-0.11.0 fonttools-4.42.1 importlib-resources-6.0.1 kiwisolver-1.4.5 matplotlib-3.7.2 pillow-10.0.0 pyparsing-3.0.9\n"
     ]
    }
   ],
   "source": [
    "!pip install matplotlib"
   ]
  },
  {
   "cell_type": "code",
   "execution_count": null,
   "id": "d0e37cec",
   "metadata": {},
   "outputs": [],
   "source": []
  },
  {
   "cell_type": "code",
   "execution_count": null,
   "id": "e9eb9fbf",
   "metadata": {},
   "outputs": [],
   "source": []
  }
 ],
 "metadata": {
  "kernelspec": {
   "display_name": "tf_gpu_env",
   "language": "python",
   "name": "tf_gpu_env"
  },
  "language_info": {
   "codemirror_mode": {
    "name": "ipython",
    "version": 3
   },
   "file_extension": ".py",
   "mimetype": "text/x-python",
   "name": "python",
   "nbconvert_exporter": "python",
   "pygments_lexer": "ipython3",
   "version": "3.9.0"
  }
 },
 "nbformat": 4,
 "nbformat_minor": 5
}
