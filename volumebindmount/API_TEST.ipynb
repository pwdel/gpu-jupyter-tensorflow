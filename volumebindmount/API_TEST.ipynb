{
 "cells": [
  {
   "cell_type": "code",
   "execution_count": 1,
   "id": "7c6cce53",
   "metadata": {},
   "outputs": [
    {
     "name": "stderr",
     "output_type": "stream",
     "text": [
      "2023-09-08 20:47:10.179531: I tensorflow/stream_executor/platform/default/dso_loader.cc:49] Successfully opened dynamic library libcudart.so.10.1\n"
     ]
    }
   ],
   "source": [
    "import tensorflow as tf"
   ]
  },
  {
   "cell_type": "code",
   "execution_count": 3,
   "id": "c1ca7aff",
   "metadata": {},
   "outputs": [
    {
     "name": "stdout",
     "output_type": "stream",
     "text": [
      "API response:\n",
      "{'ubbets_count': 94712}\n"
     ]
    }
   ],
   "source": [
    "import requests\n",
    "\n",
    "# Define the API URL\n",
    "api_url = \"http://192.168.0.201:4000/api/v0/ubbets/totalcount/\"\n",
    "\n",
    "# Make the API request\n",
    "response = requests.get(api_url)\n",
    "\n",
    "# Check if the request was successful (status code 200)\n",
    "if response.status_code == 200:\n",
    "    # Parse the JSON response into a dictionary\n",
    "    data = response.json()\n",
    "    print(\"API response:\")\n",
    "    print(data)\n",
    "else:\n",
    "    print(f\"API request failed with status code {response.status_code}\")"
   ]
  },
  {
   "cell_type": "code",
   "execution_count": 5,
   "id": "465da252",
   "metadata": {},
   "outputs": [],
   "source": [
    "import requests\n",
    "\n",
    "# Define the API URL\n",
    "api_url = \"http://192.168.0.201:4000/api/v0/ubbets/details/\"\n",
    "\n",
    "# Make the API request\n",
    "response = requests.get(api_url)\n",
    "\n",
    "# Check if the request was successful (status code 200)\n",
    "if response.status_code == 200:\n",
    "    # Parse the JSON response into a dictionary\n",
    "    data = response.json()\n",
    "else:\n",
    "    print(f\"API request failed with status code {response.status_code}\")"
   ]
  },
  {
   "cell_type": "code",
   "execution_count": 7,
   "id": "170e3c00",
   "metadata": {},
   "outputs": [
    {
     "name": "stderr",
     "output_type": "stream",
     "text": [
      "IOPub data rate exceeded.\n",
      "The notebook server will temporarily stop sending output\n",
      "to the client in order to avoid crashing it.\n",
      "To change this limit, set the config variable\n",
      "`--NotebookApp.iopub_data_rate_limit`.\n",
      "\n",
      "Current values:\n",
      "NotebookApp.iopub_data_rate_limit=1000000.0 (bytes/sec)\n",
      "NotebookApp.rate_limit_window=3.0 (secs)\n",
      "\n"
     ]
    }
   ],
   "source": [
    "import sys\n",
    "# Calculate the size of the 'data' dictionary in bytes\n",
    "print(sys.getsizeof(data))\n",
    "\n",
    "# Define the number of entries you want to print (e.g., first 3)\n",
    "num_entries_to_print = 3\n",
    "\n",
    "# Iterate through the dictionary and print the entries\n",
    "for key, value in data.items():\n",
    "    print(f\"{key}: {value}\")\n",
    "    num_entries_to_print -= 1\n",
    "    \n",
    "    # Break the loop when the desired number of entries is reached\n",
    "    if num_entries_to_print == 0:\n",
    "        break"
   ]
  },
  {
   "cell_type": "code",
   "execution_count": 15,
   "id": "744956f0",
   "metadata": {},
   "outputs": [
    {
     "data": {
      "text/plain": [
       "ubbets    [m8Ept5t7cpuUuRcyhudt, YwtpmFHqEZuUiIKtXyFN, -...\n",
       "Name: 0, dtype: object"
      ]
     },
     "execution_count": 15,
     "metadata": {},
     "output_type": "execute_result"
    }
   ],
   "source": [
    "import pandas as pd\n",
    "\n",
    "# Convert the dictionary to a Pandas DataFrame\n",
    "df = pd.DataFrame.from_dict(data)\n",
    "\n",
    "df.iloc[0]"
   ]
  },
  {
   "cell_type": "code",
   "execution_count": 22,
   "id": "5d3b0b7b",
   "metadata": {},
   "outputs": [
    {
     "data": {
      "text/html": [
       "<div>\n",
       "<style scoped>\n",
       "    .dataframe tbody tr th:only-of-type {\n",
       "        vertical-align: middle;\n",
       "    }\n",
       "\n",
       "    .dataframe tbody tr th {\n",
       "        vertical-align: top;\n",
       "    }\n",
       "\n",
       "    .dataframe thead th {\n",
       "        text-align: right;\n",
       "    }\n",
       "</style>\n",
       "<table border=\"1\" class=\"dataframe\">\n",
       "  <thead>\n",
       "    <tr style=\"text-align: right;\">\n",
       "      <th></th>\n",
       "      <th>0</th>\n",
       "      <th>1</th>\n",
       "      <th>2</th>\n",
       "      <th>3</th>\n",
       "      <th>4</th>\n",
       "      <th>5</th>\n",
       "      <th>6</th>\n",
       "      <th>7</th>\n",
       "    </tr>\n",
       "  </thead>\n",
       "  <tbody>\n",
       "    <tr>\n",
       "      <th>0</th>\n",
       "      <td>m8Ept5t7cpuUuRcyhudt</td>\n",
       "      <td>YwtpmFHqEZuUiIKtXyFN</td>\n",
       "      <td>-74.003625</td>\n",
       "      <td>1693135602227</td>\n",
       "      <td>[{'amount': -74.00362467398847, 'isSale': True...</td>\n",
       "      <td>YES</td>\n",
       "      <td>5JTjLRLqurS67gwM9RDIIggfzBz1</td>\n",
       "      <td>None</td>\n",
       "    </tr>\n",
       "    <tr>\n",
       "      <th>1</th>\n",
       "      <td>ejODbxrzgZ3Iqtj6zFAH</td>\n",
       "      <td>yOLdeZ0n3AttIJ0wCQE1</td>\n",
       "      <td>35.000000</td>\n",
       "      <td>1692184973366</td>\n",
       "      <td>[{'amount': 19.169853923684464, 'matchedBetId'...</td>\n",
       "      <td>NO</td>\n",
       "      <td>AA10TMBdN9ZxXOP7pRECfuzhqMW2</td>\n",
       "      <td>None</td>\n",
       "    </tr>\n",
       "    <tr>\n",
       "      <th>2</th>\n",
       "      <td>Tg0gF61b8p2X8IdVufRG</td>\n",
       "      <td>lbmIuDpuJhBLjFoCphJt</td>\n",
       "      <td>100.000000</td>\n",
       "      <td>1692283495374</td>\n",
       "      <td>[{'amount': 100, 'matchedBetId': None, 'shares...</td>\n",
       "      <td>NO</td>\n",
       "      <td>BhNkw088bMNwIFF2Aq5Gg9NTPzz1</td>\n",
       "      <td>None</td>\n",
       "    </tr>\n",
       "    <tr>\n",
       "      <th>3</th>\n",
       "      <td>y8E5WqkIHkpWXyS561v0</td>\n",
       "      <td>U03M56KRCKzXfmB3CuC0</td>\n",
       "      <td>10.000000</td>\n",
       "      <td>1693312921576</td>\n",
       "      <td>[{'amount': 10, 'matchedBetId': None, 'shares'...</td>\n",
       "      <td>NO</td>\n",
       "      <td>kB8B9wkkCeRj0a3rvri2ZzZxhpN2</td>\n",
       "      <td>None</td>\n",
       "    </tr>\n",
       "    <tr>\n",
       "      <th>4</th>\n",
       "      <td>6LzyyDtI7hgb2ALilJLb</td>\n",
       "      <td>kIl20PfgaUtyCKCDsSeI</td>\n",
       "      <td>3.540660</td>\n",
       "      <td>1693472867387</td>\n",
       "      <td>[{'amount': 3.5406598716457145, 'matchedBetId'...</td>\n",
       "      <td>YES</td>\n",
       "      <td>BhNkw088bMNwIFF2Aq5Gg9NTPzz1</td>\n",
       "      <td>None</td>\n",
       "    </tr>\n",
       "  </tbody>\n",
       "</table>\n",
       "</div>"
      ],
      "text/plain": [
       "                      0                     1           2              3  \\\n",
       "0  m8Ept5t7cpuUuRcyhudt  YwtpmFHqEZuUiIKtXyFN  -74.003625  1693135602227   \n",
       "1  ejODbxrzgZ3Iqtj6zFAH  yOLdeZ0n3AttIJ0wCQE1   35.000000  1692184973366   \n",
       "2  Tg0gF61b8p2X8IdVufRG  lbmIuDpuJhBLjFoCphJt  100.000000  1692283495374   \n",
       "3  y8E5WqkIHkpWXyS561v0  U03M56KRCKzXfmB3CuC0   10.000000  1693312921576   \n",
       "4  6LzyyDtI7hgb2ALilJLb  kIl20PfgaUtyCKCDsSeI    3.540660  1693472867387   \n",
       "\n",
       "                                                   4    5  \\\n",
       "0  [{'amount': -74.00362467398847, 'isSale': True...  YES   \n",
       "1  [{'amount': 19.169853923684464, 'matchedBetId'...   NO   \n",
       "2  [{'amount': 100, 'matchedBetId': None, 'shares...   NO   \n",
       "3  [{'amount': 10, 'matchedBetId': None, 'shares'...   NO   \n",
       "4  [{'amount': 3.5406598716457145, 'matchedBetId'...  YES   \n",
       "\n",
       "                              6     7  \n",
       "0  5JTjLRLqurS67gwM9RDIIggfzBz1  None  \n",
       "1  AA10TMBdN9ZxXOP7pRECfuzhqMW2  None  \n",
       "2  BhNkw088bMNwIFF2Aq5Gg9NTPzz1  None  \n",
       "3  kB8B9wkkCeRj0a3rvri2ZzZxhpN2  None  \n",
       "4  BhNkw088bMNwIFF2Aq5Gg9NTPzz1  None  "
      ]
     },
     "execution_count": 22,
     "metadata": {},
     "output_type": "execute_result"
    }
   ],
   "source": [
    "# Convert the list of entries to a Pandas DataFrame\n",
    "df = pd.DataFrame(data['ubbets'])\n",
    "\n",
    "df.head()"
   ]
  },
  {
   "cell_type": "code",
   "execution_count": null,
   "id": "cd0df3dd",
   "metadata": {},
   "outputs": [],
   "source": []
  }
 ],
 "metadata": {
  "kernelspec": {
   "display_name": "tf_gpu_env",
   "language": "python",
   "name": "tf_gpu_env"
  },
  "language_info": {
   "codemirror_mode": {
    "name": "ipython",
    "version": 3
   },
   "file_extension": ".py",
   "mimetype": "text/x-python",
   "name": "python",
   "nbconvert_exporter": "python",
   "pygments_lexer": "ipython3",
   "version": "3.9.0"
  }
 },
 "nbformat": 4,
 "nbformat_minor": 5
}
