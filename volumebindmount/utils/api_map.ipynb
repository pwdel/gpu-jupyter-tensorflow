{
 "cells": [
  {
   "cell_type": "code",
   "execution_count": 87,
   "id": "93eafc02",
   "metadata": {},
   "outputs": [],
   "source": [
    "api_map = {\n",
    "    'baseurl': 'http://192.168.0.201:4000/api/v0/',\n",
    "    'opts': {\n",
    "        'totalcount': '/totalcount',\n",
    "        'details': '/details',\n",
    "        'headers': '/headers'\n",
    "    },\n",
    "    'ubbets': {\n",
    "        'totalcount': True,\n",
    "        'details': True,\n",
    "        'headers': True\n",
    "    },\n",
    "    'ubmarkets': {\n",
    "        'totalcount': True,\n",
    "        'details': True,\n",
    "        'headers': True\n",
    "    },\n",
    "    'users': {\n",
    "        'totalcount': True,\n",
    "        'details': True,\n",
    "        'headers': True\n",
    "    },\n",
    "    'bets': {\n",
    "        'totalcount': True,\n",
    "    },\n",
    "    'markets': {\n",
    "        'totalcount': True,\n",
    "    },\n",
    "}"
   ]
  },
  {
   "cell_type": "code",
   "execution_count": 95,
   "id": "834f4adf",
   "metadata": {},
   "outputs": [],
   "source": [
    "def get_api_map():\n",
    "    return api_map"
   ]
  },
  {
   "cell_type": "code",
   "execution_count": 88,
   "id": "5cafc413",
   "metadata": {},
   "outputs": [],
   "source": [
    "def check_available_endpoint_options(endpoint):\n",
    "    opts_list = []\n",
    "    try:\n",
    "        for key in list(api_map['opts'].keys()):\n",
    "            if {api_map[endpoint][key]}:\n",
    "                opts_list.append(key)\n",
    "    except KeyError:\n",
    "        pass\n",
    "            \n",
    "    return opts_list"
   ]
  },
  {
   "cell_type": "code",
   "execution_count": 89,
   "id": "7f1b9836",
   "metadata": {},
   "outputs": [
    {
     "name": "stdout",
     "output_type": "stream",
     "text": [
      "['totalcount', 'details', 'headers']\n"
     ]
    }
   ],
   "source": [
    "print(check_available_endpoint_options('ubbets'))"
   ]
  },
  {
   "cell_type": "code",
   "execution_count": 98,
   "id": "2c51f59d",
   "metadata": {},
   "outputs": [],
   "source": [
    "import requests\n",
    "\n",
    "def ping_api(endpoint, opts):\n",
    "    \n",
    "    apiMap = get_api_map()\n",
    "    \n",
    "    # test if endpoint exists in apiMap\n",
    "    if endpoint in api_map:\n",
    "        pass\n",
    "    else:\n",
    "        raise KeyError(\"'ubbets' does not exist in api_map!\")\n",
    "    \n",
    "    baseurl = apiMap['baseurl']\n",
    "    \n",
    "    option = apiMap['opts'][opts]\n",
    "    \n",
    "    final_url = baseurl + endpoint + '/' + option\n",
    "    \n",
    "    response = requests.get(final_url)\n",
    "    \n",
    "    if response.status_code == 200:\n",
    "        data = response.json()\n",
    "        return data\n",
    "    else:\n",
    "        print(f\"API request failed with status code {response.status_code}\")"
   ]
  },
  {
   "cell_type": "code",
   "execution_count": 106,
   "id": "930bb083",
   "metadata": {},
   "outputs": [
    {
     "data": {
      "text/plain": [
       "{'ubbets_headers': ['market_id',\n",
       "  'bet_id',\n",
       "  'amount',\n",
       "  'created_time',\n",
       "  'fills',\n",
       "  'outcome',\n",
       "  'user_id',\n",
       "  'original_inserted_at']}"
      ]
     },
     "execution_count": 106,
     "metadata": {},
     "output_type": "execute_result"
    }
   ],
   "source": [
    "ping_api('ubbets','headers')"
   ]
  },
  {
   "cell_type": "code",
   "execution_count": 107,
   "id": "8bf2a9a2",
   "metadata": {},
   "outputs": [
    {
     "name": "stdout",
     "output_type": "stream",
     "text": [
      "/home/jovyan/work/utils\n"
     ]
    }
   ],
   "source": [
    "!pwd"
   ]
  },
  {
   "cell_type": "code",
   "execution_count": null,
   "id": "ca73f9d6",
   "metadata": {},
   "outputs": [],
   "source": [
    "import sys\n",
    "# Calculate the size of the 'data' dictionary in bytes\n",
    "print(sys.getsizeof(data), \"bytes\")"
   ]
  }
 ],
 "metadata": {
  "kernelspec": {
   "display_name": "Python 3 (ipykernel)",
   "language": "python",
   "name": "python3"
  },
  "language_info": {
   "codemirror_mode": {
    "name": "ipython",
    "version": 3
   },
   "file_extension": ".py",
   "mimetype": "text/x-python",
   "name": "python",
   "nbconvert_exporter": "python",
   "pygments_lexer": "ipython3",
   "version": "3.9.0"
  }
 },
 "nbformat": 4,
 "nbformat_minor": 5
}
