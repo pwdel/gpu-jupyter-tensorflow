{
 "cells": [
  {
   "cell_type": "code",
   "execution_count": 80,
   "id": "5f5f5e66",
   "metadata": {},
   "outputs": [],
   "source": [
    "api_map = {\n",
    "    'baseurl': 'http://192.168.0.201:4000/api/v0/',\n",
    "    'opts': {\n",
    "        'totalcount': '/totalcount',\n",
    "        'details': '/details',\n",
    "        'headers': '/headers'\n",
    "    },\n",
    "    'ubbets': {\n",
    "        'totalcount': True,\n",
    "        'details': True,\n",
    "        'headers': True\n",
    "    },\n",
    "    'ubmarkets': {\n",
    "        'totalcount': True,\n",
    "        'details': True,\n",
    "        'headers': True\n",
    "    },\n",
    "    'users': {\n",
    "        'totalcount': True,\n",
    "        'details': True,\n",
    "        'headers': True\n",
    "    },\n",
    "    'bets': {\n",
    "        'totalcount': True,\n",
    "    },\n",
    "    'markets': {\n",
    "        'totalcount': True,\n",
    "    },\n",
    "}"
   ]
  },
  {
   "cell_type": "code",
   "execution_count": 81,
   "id": "afe12ef7",
   "metadata": {},
   "outputs": [],
   "source": [
    "def check_available_endpoint_options(endpoint):\n",
    "    opts_list = []\n",
    "    try:\n",
    "        for key in list(api_map['opts'].keys()):\n",
    "            if {api_map[endpoint][key]}:\n",
    "                opts_list.append(key)\n",
    "    except KeyError:\n",
    "        pass\n",
    "            \n",
    "    return opts_list"
   ]
  },
  {
   "cell_type": "code",
   "execution_count": 79,
   "id": "2f16610e",
   "metadata": {},
   "outputs": [
    {
     "name": "stdout",
     "output_type": "stream",
     "text": [
      "['totalcount', 'details']\n"
     ]
    }
   ],
   "source": [
    "print(check_available_endpoint_options('ubbets'))"
   ]
  },
  {
   "cell_type": "code",
   "execution_count": 83,
   "id": "40388402",
   "metadata": {},
   "outputs": [],
   "source": [
    "def ping_api(endpoint, opts):\n",
    "    print(endpoint,opts)"
   ]
  },
  {
   "cell_type": "code",
   "execution_count": 84,
   "id": "e7053a22",
   "metadata": {},
   "outputs": [
    {
     "name": "stdout",
     "output_type": "stream",
     "text": [
      "ubbets details\n"
     ]
    }
   ],
   "source": [
    "ping_api('ubbets','details')"
   ]
  },
  {
   "cell_type": "code",
   "execution_count": null,
   "id": "4a6d9251",
   "metadata": {},
   "outputs": [],
   "source": []
  }
 ],
 "metadata": {
  "kernelspec": {
   "display_name": "Python 3 (ipykernel)",
   "language": "python",
   "name": "python3"
  },
  "language_info": {
   "codemirror_mode": {
    "name": "ipython",
    "version": 3
   },
   "file_extension": ".py",
   "mimetype": "text/x-python",
   "name": "python",
   "nbconvert_exporter": "python",
   "pygments_lexer": "ipython3",
   "version": "3.9.0"
  }
 },
 "nbformat": 4,
 "nbformat_minor": 5
}
