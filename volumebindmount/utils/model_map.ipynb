{
 "cells": [
  {
   "cell_type": "code",
   "execution_count": 3,
   "id": "0036e1b7",
   "metadata": {},
   "outputs": [],
   "source": [
    "model_map = {\n",
    "    'first_model': {\n",
    "        'extension': '.pkl'\n",
    "    }\n",
    "}"
   ]
  },
  {
   "cell_type": "code",
   "execution_count": 4,
   "id": "87e8f7e3",
   "metadata": {},
   "outputs": [
    {
     "data": {
      "text/plain": [
       "{'first_model': {'extension': '.pkl'}}"
      ]
     },
     "execution_count": 4,
     "metadata": {},
     "output_type": "execute_result"
    }
   ],
   "source": [
    "model_map"
   ]
  },
  {
   "cell_type": "code",
   "execution_count": 6,
   "id": "987465e1",
   "metadata": {},
   "outputs": [
    {
     "data": {
      "text/plain": [
       "'.pkl'"
      ]
     },
     "execution_count": 6,
     "metadata": {},
     "output_type": "execute_result"
    }
   ],
   "source": [
    "model_map['first_model']['extension']"
   ]
  },
  {
   "cell_type": "code",
   "execution_count": null,
   "id": "792d286e",
   "metadata": {},
   "outputs": [],
   "source": []
  }
 ],
 "metadata": {
  "kernelspec": {
   "display_name": "tf_gpu_env",
   "language": "python",
   "name": "tf_gpu_env"
  },
  "language_info": {
   "codemirror_mode": {
    "name": "ipython",
    "version": 3
   },
   "file_extension": ".py",
   "mimetype": "text/x-python",
   "name": "python",
   "nbconvert_exporter": "python",
   "pygments_lexer": "ipython3",
   "version": "3.9.0"
  }
 },
 "nbformat": 4,
 "nbformat_minor": 5
}
