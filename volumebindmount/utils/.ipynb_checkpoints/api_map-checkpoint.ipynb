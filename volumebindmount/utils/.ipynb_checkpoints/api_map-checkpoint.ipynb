{
 "cells": [
  {
   "cell_type": "code",
   "execution_count": 87,
   "id": "35a74755",
   "metadata": {},
   "outputs": [],
   "source": [
    "api_map = {\n",
    "    'baseurl': 'http://192.168.0.201:4000/api/v0/',\n",
    "    'opts': {\n",
    "        'totalcount': '/totalcount',\n",
    "        'details': '/details',\n",
    "        'headers': '/headers'\n",
    "    },\n",
    "    'ubbets': {\n",
    "        'totalcount': True,\n",
    "        'details': True,\n",
    "        'headers': True\n",
    "    },\n",
    "    'ubmarkets': {\n",
    "        'totalcount': True,\n",
    "        'details': True,\n",
    "        'headers': True\n",
    "    },\n",
    "    'users': {\n",
    "        'totalcount': True,\n",
    "        'details': True,\n",
    "        'headers': True\n",
    "    },\n",
    "    'bets': {\n",
    "        'totalcount': True,\n",
    "    },\n",
    "    'markets': {\n",
    "        'totalcount': True,\n",
    "    },\n",
    "}"
   ]
  },
  {
   "cell_type": "code",
   "execution_count": null,
   "id": "f2ff71f3",
   "metadata": {},
   "outputs": [],
   "source": [
    "def get_api_map():\n",
    "    return api_map"
   ]
  },
  {
   "cell_type": "code",
   "execution_count": 88,
   "id": "afc84745",
   "metadata": {},
   "outputs": [],
   "source": [
    "def check_available_endpoint_options(endpoint):\n",
    "    opts_list = []\n",
    "    try:\n",
    "        for key in list(api_map['opts'].keys()):\n",
    "            if {api_map[endpoint][key]}:\n",
    "                opts_list.append(key)\n",
    "    except KeyError:\n",
    "        pass\n",
    "            \n",
    "    return opts_list"
   ]
  },
  {
   "cell_type": "code",
   "execution_count": 89,
   "id": "52c1b1b8",
   "metadata": {},
   "outputs": [
    {
     "name": "stdout",
     "output_type": "stream",
     "text": [
      "['totalcount', 'details', 'headers']\n"
     ]
    }
   ],
   "source": [
    "print(check_available_endpoint_options('ubbets'))"
   ]
  },
  {
   "cell_type": "code",
   "execution_count": 90,
   "id": "b6b664f5",
   "metadata": {},
   "outputs": [],
   "source": [
    "import requests\n",
    "\n",
    "def ping_api(endpoint, opts):\n",
    "    \n",
    "    apiMap = get_api_map()\n",
    "    \n",
    "    # test if endpoint exists in apiMap\n",
    "    \n",
    "    if 'ubbets' in api_map:\n",
    "        pass\n",
    "    # ... other code related to 'ubbets'\n",
    "    else:\n",
    "        raise KeyError(\"'ubbets' does not exist in api_map!\")\n",
    "    \n",
    "    url = apiMap['baseurl']\n",
    "    \n",
    "    options = apiMap['opts'][opts]\n",
    "    \n",
    "    final_url = baseurl + endpoint + '/' + \n",
    "    \n",
    "    response = requests.get(final_url)\n",
    "\n",
    "    \n",
    "    \n",
    "    \n",
    "\n",
    "\n",
    "# Define the API URL\n",
    "api_url = \"http://192.168.0.201:4000/api/v0/ubbets/totalcount/\"\n",
    "\n",
    "# Make the API request\n",
    "response = requests.get(api_url)\n",
    "\n",
    "# Check if the request was successful (status code 200)\n",
    "if response.status_code == 200:\n",
    "    # Parse the JSON response into a dictionary\n",
    "    data = response.json()\n",
    "    print(\"API response:\")\n",
    "    print(data)\n",
    "else:\n",
    "    print(f\"API request failed with status code {response.status_code}\")"
   ]
  },
  {
   "cell_type": "code",
   "execution_count": 91,
   "id": "2c8674f0",
   "metadata": {},
   "outputs": [
    {
     "name": "stdout",
     "output_type": "stream",
     "text": [
      "ubbets details\n"
     ]
    }
   ],
   "source": [
    "ping_api('ubbets','details')"
   ]
  },
  {
   "cell_type": "code",
   "execution_count": null,
   "id": "955c4414",
   "metadata": {},
   "outputs": [],
   "source": []
  }
 ],
 "metadata": {
  "kernelspec": {
   "display_name": "Python 3 (ipykernel)",
   "language": "python",
   "name": "python3"
  },
  "language_info": {
   "codemirror_mode": {
    "name": "ipython",
    "version": 3
   },
   "file_extension": ".py",
   "mimetype": "text/x-python",
   "name": "python",
   "nbconvert_exporter": "python",
   "pygments_lexer": "ipython3",
   "version": "3.9.0"
  }
 },
 "nbformat": 4,
 "nbformat_minor": 5
}
